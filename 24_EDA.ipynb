{
 "cells": [
  {
   "cell_type": "markdown",
   "id": "3edab6c8-d29a-4a79-be0b-0f3ff3080a63",
   "metadata": {},
   "source": [
    "# 0. EDA Process"
   ]
  },
  {
   "cell_type": "markdown",
   "id": "3ed0ab11-95b3-43f3-b73f-d10bc8648a17",
   "metadata": {},
   "source": [
    "**1. 1차원데이터분석**\n",
    "\n",
    "**1.** **변수종류파악( 수치형/ 범주형/ 시간형)**\n",
    "\n",
    "**2.** **변수종류별분석지표( 수치형/ 범주형/ 시간형)**\n",
    "\n",
    "**3.** **시각화**\n",
    "\n",
    "- **도수분포표/ 히스토그램/ 상자그림**\n",
    "\n",
    "**2. 2차원데이터분석**\n",
    "\n",
    "**1.** **공분산/ 상관계수**\n",
    "\n",
    "**2.** **다중공선성확인**\n",
    "\n",
    "**3.** **시각화**\n",
    "\n",
    "- **산점도/ 회귀직선/ 히트맵**"
   ]
  },
  {
   "cell_type": "code",
   "execution_count": null,
   "id": "8a1d93ee-2f91-4bb5-863b-c6580d191f3e",
   "metadata": {},
   "outputs": [],
   "source": []
  },
  {
   "cell_type": "code",
   "execution_count": null,
   "id": "2f2d04cc-f0e1-48a2-a1af-b5d9cb7e57d6",
   "metadata": {},
   "outputs": [],
   "source": []
  }
 ],
 "metadata": {
  "kernelspec": {
   "display_name": "Python 3 (ipykernel)",
   "language": "python",
   "name": "python3"
  },
  "language_info": {
   "codemirror_mode": {
    "name": "ipython",
    "version": 3
   },
   "file_extension": ".py",
   "mimetype": "text/x-python",
   "name": "python",
   "nbconvert_exporter": "python",
   "pygments_lexer": "ipython3",
   "version": "3.11.4"
  }
 },
 "nbformat": 4,
 "nbformat_minor": 5
}
