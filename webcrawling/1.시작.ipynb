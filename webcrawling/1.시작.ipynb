{
 "cells": [
  {
   "cell_type": "code",
   "execution_count": 1,
   "metadata": {},
   "outputs": [],
   "source": [
    "import requests"
   ]
  },
  {
   "cell_type": "code",
   "execution_count": 2,
   "metadata": {},
   "outputs": [
    {
     "name": "stdout",
     "output_type": "stream",
     "text": [
      "hahahaha\n"
     ]
    }
   ],
   "source": [
    "print('hahahaha')"
   ]
  },
  {
   "cell_type": "code",
   "execution_count": 3,
   "metadata": {},
   "outputs": [
    {
     "data": {
      "text/plain": [
       "200"
      ]
     },
     "execution_count": 3,
     "metadata": {},
     "output_type": "execute_result"
    }
   ],
   "source": [
    "urls = \"https://www.google.com/\"\n",
    "r = requests.get(urls)\n",
    "r.status_code"
   ]
  },
  {
   "cell_type": "code",
   "execution_count": 5,
   "metadata": {},
   "outputs": [
    {
     "data": {
      "text/plain": [
       "'<!doctype html><html itemscope=\"\" itemtype=\"http://schema.org/WebPage\" lang=\"ko\"><head><meta content=\"text/html; charset=UTF-8\" http-equiv=\"Content-Type\"><meta content=\"/images/branding/googleg/1x/googleg_standard_color_128dp.png\" itemprop=\"image\"><title>Google</title><script nonce=\"FPNz8N-CCzkESai3Y8Cvhw\">(function(){var _g={kEI:\\'Uow9Z7uSJbbm2roPmP-VyA8\\',kEXPI:\\'0,202746,3497567,126,503,442,448529,90132,2872,2891,8348,34680,30022,6398,116,344226,2006,8155,23350,8702,13734,9779,62658,76208,15816,1804,35268,11814,1635,29276,5240892,5989436,3123,2841691,8,29,2,1,11,1,6,1,6,1,8,1,7,2,5,45,76,7,5,5,7,2,4,7,5,27978930,16672,25199210,12799,100481,22622,15165,8181,5936,43494,21673,6751,22593,1286,7033,2105,762,2316,1522,328,4459,1766,23407,6,2871,1706,5634,686,7851,22,10485,10787,710,1341,5407,8300,8213,7422,7089,5043,5437,242,10090,2475,797,16870,10672,3802,5737,3844,1801,934,4928,8633,41,11882,1757,1,4883,2587,325,314,1,30,1351,1355,2201,1,2250,8614,7124,260,673,5094,465,319,1251,192,895,3,7,1683,37,1505,243,515,3608,816,834,1412,2581,1780,622,4,2,199,1330,8,192,343,2,501,1758,1209,1,642,3,431,1400,543,68,638,83,528,372,105,408,254,461,122,1260,110,324,214,129,3132,190,1190,845,560,950,706,417,113,43,392,369,466,762,1643,514,62,200,604,222,195,494,371,1076,14,9,957,2,3,2,973,975,234,176,109,250,290,413,37,238,456,1159,311,212,30,880,160,3,443,243,55,170,183,149,128,1437,25,656,427,26,8,453,2,204,3,3,321,4,353,15,1,5,4,4,4,90,308,218,310,137,7,5,5,189,14,58,272,35,339,266,323,17,279,173,2,13,49,55,206,386,503,169,729,635,74,2744,72,2,1366,21394601,3,2927,14070,18,2780,702,877,3504,879,1048,873,624,6,210,613,6\\',kBL:\\'mzjg\\',kOPI:89978449};(function(){var a;((a=window.google)==null?0:a.stvsc)?google.kEI=_g.kEI:window.google=_g;}).call(this);})();(function(){google.sn=\\'webhp\\';google.kHL=\\'ko\\';})();(function(){\\nvar g=this||self;function k(){return window.google&&window.google.kOPI||null};var l,m=[];function n(a){for(var b;a&&(!a.getAttribute||!(b=a.getAttribute(\"eid\")));)a=a.parentNode;return b||l}function p(a){for(var b=null;a&&(!a.getAttribute||!(b=a.getAttribute(\"leid\")));)a=a.parentNode;return b}function q(a){/^http:/i.test(a)&&window.location.protocol===\"https:\"&&(google.ml&&google.ml(Error(\"a\"),!1,{src:a,glmm:1}),a=\"\");return a}\\nfunction r(a,b,d,c,h){var e=\"\";b.search(\"&ei=\")===-1&&(e=\"&ei=\"+n(c),b.search(\"&lei=\")===-1&&(c=p(c))&&(e+=\"&lei=\"+c));var f=b.search(\"&cshid=\")===-1&&a!==\"slh\";c=\"&zx=\"+Date.now().toString();g._cshid&&f&&(c+=\"&cshid=\"+g._cshid);(d=d())&&(c+=\"&opi=\"+d);return\"/\"+(h||\"gen_204\")+\"?atyp=i&ct=\"+String(a)+\"&cad=\"+(b+e+c)};l=google.kEI;google.getEI=n;google.getLEI=p;google.ml=function(){return null};google.log=function(a,b,d,c,h,e){e=e===void 0?k:e;d||(d=r(a,b,e,c,h));if(d=q(d)){a=new Image;var f=m.length;m[f]=a;a.onerror=a.onload=a.onabort=function(){delete m[f]};a.src=d}};google.logUrl=function(a,b){b=b===void 0?k:b;return r(\"\",a,b)};}).call(this);(function(){google.y={};google.sy=[];var d;(d=google).x||(d.x=function(a,b){if(a)var c=a.id;else{do c=Math.random();while(google.y[c])}google.y[c]=[a,b];return!1});var e;(e=google).sx||(e.sx=function(a){google.sy.push(a)});google.lm=[];var f;(f=google).plm||(f.plm=function(a){google.lm.push.apply(google.lm,a)});google.lq=[];var g;(g=google).load||(g.load=function(a,b,c){google.lq.push([[a],b,c])});var h;(h=google).loadAll||(h.loadAll=function(a,b){google.lq.push([a,b])});google.bx=!1;var k;(k=google).lx||(k.lx=function(){});var l=[],m;(m=google).fce||(m.fce=function(a,b,c,n){l.push([a,b,c,n])});google.qce=l;}).call(this);google.f={};(function(){\\ndocument.documentElement.addEventListener(\"submit\",function(b){var a;if(a=b.target){var c=a.getAttribute(\"data-submitfalse\");a=c===\"1\"||c===\"q\"&&!a.elements.q.value?!0:!1}else a=!1;a&&(b.preventDefault(),b.stopPropagation())},!0);document.documentElement.addEventListener(\"click\",function(b){var a;a:{for(a=b.target;a&&a!==document.documentElement;a=a.parentElement)if(a.tagName===\"A\"){a=a.getAttribute(\"data-nohref\")===\"1\";break a}a=!1}a&&b.preventDefault()},!0);}).call(this);</script><style>#gbar,#guser{font-size:13px;padding-top:1px !important;}#gbar{height:22px}#guser{padding-bottom:7px !important;text-align:right}.gbh,.gbd{border-top:1px solid #c9d7f1;font-size:1px}.gbh{height:0;position:absolute;top:24px;width:100%}@media all{.gb1{height:22px;margin-right:.5em;vertical-align:top}#gbar{float:left}}a.gb1,a.gb4{text-decoration:underline !important}a.gb1,a.gb4{color:#00c !important}.gbi .gb4{color:#dd8e27 !important}.gbf .gb4{color:#900 !important}\\n</style><style>body,td,a,p,.h{font-family:&#44404;&#47548;,&#46027;&#50880;,arial,sans-serif}.ko{font-size:9pt}body{margin:0;overflow-y:scroll}#gog{padding:3px 8px 0}td{line-height:.8em}.gac_m td{line-height:17px}form{margin-bottom:20px}.h{color:#1967d2}em{font-weight:bold;font-style:normal}.lst{height:25px;width:496px}.gsfi,.lst{font:18px arial,sans-serif}.gsfs{font:17px arial,sans-serif}.ds{display:inline-box;display:inline-block;margin:3px 0 4px;margin-left:4px}input{font-family:inherit}body{background:#fff;color:#000}a{color:#681da8;text-decoration:none}a:hover,a:active{text-decoration:underline}.fl a{color:#1967d2}a:visited{color:#681da8}.sblc{padding-top:5px}.sblc a{display:block;margin:2px 0;margin-left:13px;font-size:11px}.lsbb{background:#f8f9fa;border:solid 1px;border-color:#dadce0 #70757a #70757a #dadce0;height:30px}.lsbb{display:block}#WqQANb a{display:inline-block;margin:0 12px}.lsb{background:url(/images/nav_logo229.png) 0 -261px repeat-x;color:#000;border:none;cursor:pointer;height:30px;margin:0;outline:0;font:15px arial,sans-serif;vertical-align:top}.lsb:active{background:#dadce0}.lst:focus{outline:none}.Ucigb{width:458px}</style><script nonce=\"FPNz8N-CCzkESai3Y8Cvhw\">(function(){window.google.erd={jsr:1,bv:2119,de:true,dpf:\\'AMFPnrskZoJZXiy8Axvzq6_Xx0BjAI2cc3QFzn1WbRY\\'};\\nvar g=this||self;var k,l=(k=g.mei)!=null?k:1,n,p=(n=g.sdo)!=null?n:!0,q=0,r,t=google.erd,v=t.jsr;google.ml=function(a,b,d,m,e){e=e===void 0?2:e;b&&(r=a&&a.message);d===void 0&&(d={});d.cad=\"ple_\"+google.ple+\".aple_\"+google.aple;if(google.dl)return google.dl(a,e,d,!0),null;b=d;if(v<0){window.console&&console.error(a,b);if(v===-2)throw a;b=!1}else b=!a||!a.message||a.message===\"Error loading script\"||q>=l&&!m?!1:!0;if(!b)return null;q++;d=d||{};b=encodeURIComponent;var c=\"/gen_204?atyp=i&ei=\"+b(google.kEI);google.kEXPI&&(c+=\"&jexpid=\"+b(google.kEXPI));c+=\"&srcpg=\"+b(google.sn)+\"&jsr=\"+b(t.jsr)+\\n\"&bver=\"+b(t.bv);t.dpf&&(c+=\"&dpf=\"+b(t.dpf));var f=a.lineNumber;f!==void 0&&(c+=\"&line=\"+f);var h=a.fileName;h&&(h.indexOf(\"-extension:/\")>0&&(e=3),c+=\"&script=\"+b(h),f&&h===window.location.href&&(f=document.documentElement.outerHTML.split(\"\\\\n\")[f],c+=\"&cad=\"+b(f?f.substring(0,300):\"No script found.\")));google.ple&&google.ple===1&&(e=2);c+=\"&jsel=\"+e;for(var u in d)c+=\"&\",c+=b(u),c+=\"=\",c+=b(d[u]);c=c+\"&emsg=\"+b(a.name+\": \"+a.message);c=c+\"&jsst=\"+b(a.stack||\"N/A\");c.length>=12288&&(c=c.substr(0,12288));a=c;m||google.log(0,\"\",a);return a};window.onerror=function(a,b,d,m,e){r!==a&&(a=e instanceof Error?e:Error(a),d===void 0||\"lineNumber\"in a||(a.lineNumber=d),b===void 0||\"fileName\"in a||(a.fileName=b),google.ml(a,!1,void 0,!1,a.name===\"SyntaxError\"||a.message.substring(0,11)===\"SyntaxError\"||a.message.indexOf(\"Script error\")!==-1?3:0));r=null;p&&q>=l&&(window.onerror=null)};})();</script></head><body bgcolor=\"#fff\"><script nonce=\"FPNz8N-CCzkESai3Y8Cvhw\">(function(){var src=\\'/images/nav_logo229.png\\';var iesg=false;document.body.onload = function(){window.n && window.n();if (document.images){new Image().src=src;}\\nif (!iesg){document.f&&document.f.q.focus();document.gbqf&&document.gbqf.q.focus();}\\n}\\n})();</script><div id=\"mngb\"><div id=gbar><nobr><b class=gb1>&#44160;&#49353;</b> <a class=gb1 href=\"https://www.google.com/imghp?hl=ko&tab=wi\">&#51060;&#48120;&#51648;</a> <a class=gb1 href=\"https://maps.google.co.kr/maps?hl=ko&tab=wl\">&#51648;&#46020;</a> <a class=gb1 href=\"https://play.google.com/?hl=ko&tab=w8\">Play</a> <a class=gb1 href=\"https://www.youtube.com/?tab=w1\">YouTube</a> <a class=gb1 href=\"https://news.google.com/?tab=wn\">&#45684;&#49828;</a> <a class=gb1 href=\"https://mail.google.com/mail/?tab=wm\">Gmail</a> <a class=gb1 href=\"https://drive.google.com/?tab=wo\">&#46300;&#46972;&#51060;&#48652;</a> <a class=gb1 style=\"text-decoration:none\" href=\"https://www.google.co.kr/intl/ko/about/products?tab=wh\"><u>&#45908;&#48372;&#44592;</u> &raquo;</a></nobr></div><div id=guser width=100%><nobr><span id=gbn class=gbi></span><span id=gbf class=gbf></span><span id=gbe></span><a href=\"http://www.google.co.kr/history/optout?hl=ko\" class=gb4>&#50937; &#44592;&#47197;</a> | <a  href=\"/preferences?hl=ko\" class=gb4>&#49444;&#51221;</a> | <a target=_top id=gb_70 href=\"https://accounts.google.com/ServiceLogin?hl=ko&passive=true&continue=https://www.google.com/&ec=GAZAAQ\" class=gb4>&#47196;&#44536;&#51064;</a></nobr></div><div class=gbh style=left:0></div><div class=gbh style=right:0></div></div><center><br clear=\"all\" id=\"lgpd\"><div id=\"XjhHGf\"><img alt=\"Google\" height=\"92\" src=\"/images/branding/googlelogo/1x/googlelogo_white_background_color_272x92dp.png\" style=\"padding:28px 0 14px\" width=\"272\" id=\"hplogo\"><br><br></div><form action=\"/search\" name=\"f\"><table cellpadding=\"0\" cellspacing=\"0\"><tr valign=\"top\"><td width=\"25%\">&nbsp;</td><td align=\"center\" nowrap=\"\"><input name=\"ie\" value=\"ISO-8859-1\" type=\"hidden\"><input value=\"ko\" name=\"hl\" type=\"hidden\"><input name=\"source\" type=\"hidden\" value=\"hp\"><input name=\"biw\" type=\"hidden\"><input name=\"bih\" type=\"hidden\"><div class=\"ds\" style=\"height:32px;margin:4px 0\"><div style=\"position:relative;zoom:1\"><input class=\"lst Ucigb\" style=\"margin:0;padding:5px 8px 0 6px;vertical-align:top;color:#000;padding-right:38px\" autocomplete=\"off\" value=\"\" title=\"Google &#44160;&#49353;\" maxlength=\"2048\" name=\"q\" size=\"57\"><img src=\"/textinputassistant/tia.png\" style=\"position:absolute;cursor:pointer;right:5px;top:4px;z-index:300\" data-script-url=\"/textinputassistant/13/ko_tia.js\" id=\"tsuid_Uow9Z7uSJbbm2roPmP-VyA8_1\" alt=\"\" height=\"23\" width=\"27\"><script nonce=\"FPNz8N-CCzkESai3Y8Cvhw\">(function(){var id=\\'tsuid_Uow9Z7uSJbbm2roPmP-VyA8_1\\';document.getElementById(id).onclick = function(){var s = document.createElement(\\'script\\');s.src = this.getAttribute(\\'data-script-url\\');document.body.appendChild(s);};})();</script></div></div><br style=\"line-height:0\"><span class=\"ds\"><span class=\"lsbb\"><input class=\"lsb\" value=\"Google &#44160;&#49353;\" name=\"btnG\" type=\"submit\"></span></span><span class=\"ds\"><span class=\"lsbb\"><input class=\"lsb\" id=\"tsuid_Uow9Z7uSJbbm2roPmP-VyA8_2\" value=\"I&#8217;m Feeling Lucky\" name=\"btnI\" type=\"submit\"><script nonce=\"FPNz8N-CCzkESai3Y8Cvhw\">(function(){var id=\\'tsuid_Uow9Z7uSJbbm2roPmP-VyA8_2\\';document.getElementById(id).onclick = function(){if (this.form.q.value){this.checked = 1;if (this.form.iflsig)this.form.iflsig.disabled = false;}\\nelse top.location=\\'/doodles/\\';};})();</script><input value=\"AL9hbdgAAAAAZz2aYmcf3aGVFL-oontnTUPWSa7_J7qw\" name=\"iflsig\" type=\"hidden\"></span></span></td><td class=\"fl sblc\" align=\"left\" nowrap=\"\" width=\"25%\"><a href=\"/advanced_search?hl=ko&amp;authuser=0\">&#44256;&#44553;&#44160;&#49353;</a></td></tr></table><input id=\"gbv\" name=\"gbv\" type=\"hidden\" value=\"1\"><script nonce=\"FPNz8N-CCzkESai3Y8Cvhw\">(function(){var a,b=\"1\";if(document&&document.getElementById)if(typeof XMLHttpRequest!=\"undefined\")b=\"2\";else if(typeof ActiveXObject!=\"undefined\"){var c,d,e=[\"MSXML2.XMLHTTP.6.0\",\"MSXML2.XMLHTTP.3.0\",\"MSXML2.XMLHTTP\",\"Microsoft.XMLHTTP\"];for(c=0;d=e[c++];)try{new ActiveXObject(d),b=\"2\"}catch(h){}}a=b;if(a==\"2\"&&location.search.indexOf(\"&gbv=2\")==-1){var f=google.gbvu,g=document.getElementById(\"gbv\");g&&(g.value=a);f&&window.setTimeout(function(){location.href=f},0)};}).call(this);</script></form><div style=\"font-size:83%;min-height:3.5em\"><br></div><span id=\"footer\"><div style=\"font-size:10pt\"><div style=\"margin:19px auto;text-align:center\" id=\"WqQANb\"><a href=\"/intl/ko/ads/\">&#44305;&#44256;</a><a href=\"http://www.google.co.kr/intl/ko/services/\">&#48708;&#51592;&#45768;&#49828; &#49556;&#47336;&#49496;</a><a href=\"/intl/ko/about.html\">Google &#51221;&#48372;</a><a href=\"https://www.google.com/setprefdomain?prefdom=KR&amp;prev=https://www.google.co.kr/&amp;sig=K_TljzviiHgR-SF0dzryhyOsURl_0%3D\">Google.co.kr</a></div></div><p style=\"font-size:8pt;color:#70757a\">&copy; 2024 - <a href=\"/intl/ko/policies/privacy/\">&#44060;&#51064;&#51221;&#48372;&#52376;&#47532;&#48169;&#52840;</a> - <a href=\"/intl/ko/policies/terms/\">&#50557;&#44288;</a></p></span></center><script nonce=\"FPNz8N-CCzkESai3Y8Cvhw\">(function(){window.google.cdo={height:757,width:1440};(function(){var a=window.innerWidth,b=window.innerHeight;if(!a||!b){var c=window.document,d=c.compatMode==\"CSS1Compat\"?c.documentElement:c.body;a=d.clientWidth;b=d.clientHeight}if(a&&b&&(a!=google.cdo.width||b!=google.cdo.height)){var e=google,f=e.log,g=\"/client_204?&atyp=i&biw=\"+a+\"&bih=\"+b+\"&ei=\"+google.kEI,h=\"\",k=window.google&&window.google.kOPI||null;k&&(h+=\"&opi=\"+k);f.call(e,\"\",\"\",g+h)};}).call(this);})();</script>  <script nonce=\"FPNz8N-CCzkESai3Y8Cvhw\">(function(){google.xjs={basecomb:\\'/xjs/_/js/k\\\\x3dxjs.hp.en.mr-SwLlJNSY.es5.O/ck\\\\x3dxjs.hp.Q44VmRKLHSc.L.X.O/am\\\\x3dBAAAAABAAAAAAAAAAAAAAAAAAAAAAAAAAAAAAAAAAIIAAAAAAAAAAAAGAACMBgAAgABAgAAAAAAAAAAAAAAAgAgARAGAMAEAAIjvCAAEwCIAALw/d\\\\x3d1/ed\\\\x3d1/dg\\\\x3d0/ujg\\\\x3d1/rs\\\\x3dACT90oHOtkhYiGC0z4qTFCxqNN86k0IXDQ\\',basecss:\\'/xjs/_/ss/k\\\\x3dxjs.hp.Q44VmRKLHSc.L.X.O/am\\\\x3dBAAAAABAAAAAAAAAAAAAAAAAAAAAAAAAAAAAAAAAAIAAAAAAAAAAAAAAAACMAAAAgABAgAAAAAAAAAAAAAAAgAgARAGAMAE/rs\\\\x3dACT90oEhutHEHOurXK0n4zGEi-fL4-tT3g\\',basejs:\\'/xjs/_/js/k\\\\x3dxjs.hp.en.mr-SwLlJNSY.es5.O/am\\\\x3dAAAAAAAAAAAAAAAAAAAAAAAAAAAAAAAAAAAAAAAAAAIAAAAAAAAAAAAGAAAABgAAAAAAAAAAAAAAAAAAAAAAAAAAAAAAAAAAAIjvCAAEwCIAALw/dg\\\\x3d0/rs\\\\x3dACT90oGVLbZdU1c8pkKyN95EasVS45V1ZQ\\',excm:[]};})();</script>       <script nonce=\"FPNz8N-CCzkESai3Y8Cvhw\">(function(){var u=\\'/xjs/_/js/k\\\\x3dxjs.hp.en.mr-SwLlJNSY.es5.O/am\\\\x3dAAAAAAAAAAAAAAAAAAAAAAAAAAAAAAAAAAAAAAAAAAIAAAAAAAAAAAAGAAAABgAAAAAAAAAAAAAAAAAAAAAAAAAAAAAAAAAAAIjvCAAEwCIAALw/d\\\\x3d1/ed\\\\x3d1/dg\\\\x3d3/rs\\\\x3dACT90oGVLbZdU1c8pkKyN95EasVS45V1ZQ/m\\\\x3dsb_he,d\\';var st=1;var amd=1000;var mmd=0;var pod=true;\\nvar e=this||self;function f(){var a,b,d;if(b=a=(b=window.google)==null?void 0:(d=b.ia)==null?void 0:d.r.B2Jtyd)b=a.m,b=b===1||b===5;return b&&a.cbfd!=null&&a.cbvi!=null?a:void 0};function g(){var a=[u];if(!google.dp){for(var b=0;b<a.length;b++){var d=a[b],c=document.createElement(\"link\");c.as=\"script\";c.href=d;c.rel=\"preload\";document.body.appendChild(c)}google.dp=!0}};google.ps===void 0&&(google.ps=[]);function h(){var a=u,b=function(){};google.lx=google.stvsc?b:function(){k(a);google.lx=b};google.bx||google.lx()}function l(a,b){b&&(a.src=b);var d=a.onload;a.onload=function(c){d&&d(c);google.ps=google.ps.filter(function(C){return a!==C})};google.ps.push(a);document.body.appendChild(a)}google.as=l;function k(a){google.timers&&google.timers.load&&google.tick&&google.tick(\"load\",\"xjsls\");var b=document.createElement(\"script\");b.onerror=function(){google.ple=1};b.onload=function(){google.ple=0};google.xjsus=void 0;l(b,a);google.aple=-1;google.dp=!0};function m(a){var b=a.getAttribute(\"jscontroller\");return(b===\"UBXHI\"||b===\"R3fhkb\"||b===\"TSZEqd\")&&a.hasAttribute(\"data-src\")}function n(){for(var a=document.getElementsByTagName(\"img\"),b=0,d=a.length;b<d;b++){var c=a[b];if(c.hasAttribute(\"data-lzy_\")&&Number(c.getAttribute(\"data-atf\"))&1&&!m(c))return!0}return!1}for(var p=document.getElementsByTagName(\"img\"),q=0,r=p.length;q<r;++q){var t=p[q];Number(t.getAttribute(\"data-atf\"))&1&&m(t)&&(t.src=t.getAttribute(\"data-src\"))};var w,x,y,z,A,B;function D(){google.xjsu=u;e._F_jsUrl=u;A=function(){h()};w=!1;x=(st===1||st===3)&&!!google.caft&&!n();y=f();z=(st===2||st===3)&&!!y&&!n();B=pod}function E(){w||x||z||(A(),w=!0)}setTimeout(function(){google&&google.tick&&google.timers&&google.timers.load&&google.tick(\"load\",\"xjspls\");D();if(x||z){if(x){var a=function(){x=!1;E()};google.caft(a);window.setTimeout(a,amd)}z&&(a=function(){z=!1;E()},y.cbvi.push(a),window.setTimeout(a,mmd));B&&(w||g())}else A()},0);})();window._ = window._ || {};window._DumpException = _._DumpException = function(e){throw e;};window._s = window._s || {};_s._DumpException = _._DumpException;window._qs = window._qs || {};_qs._DumpException = _._DumpException;(function(){var t=[4,65536,0,0,0,0,0,0,33280,0,603980288,587595777,268440582,33619974,2621440,0,0,84934690,1247236,1004666880,33816584,805306507,11];window._F_toggles = window._xjs_toggles = t;})();window._F_installCss = window._F_installCss || function(css){};(function(){google.jl={bfl:0,dw:false,ine:false,ubm:false,uwp:true,vs:false};})();(function(){var pmc=\\'{\\\\x22d\\\\x22:{},\\\\x22sb_he\\\\x22:{\\\\x22agen\\\\x22:false,\\\\x22cgen\\\\x22:false,\\\\x22client\\\\x22:\\\\x22heirloom-hp\\\\x22,\\\\x22dh\\\\x22:true,\\\\x22ds\\\\x22:\\\\x22\\\\x22,\\\\x22fl\\\\x22:true,\\\\x22host\\\\x22:\\\\x22google.com\\\\x22,\\\\x22jsonp\\\\x22:true,\\\\x22msgs\\\\x22:{\\\\x22cibl\\\\x22:\\\\x22\\\\\\\\uac80\\\\\\\\uc0c9\\\\\\\\uc5b4 \\\\\\\\uc9c0\\\\\\\\uc6b0\\\\\\\\uae30\\\\x22,\\\\x22dym\\\\x22:\\\\x22\\\\\\\\uc774\\\\\\\\uac83\\\\\\\\uc744 \\\\\\\\ucc3e\\\\\\\\uc73c\\\\\\\\uc168\\\\\\\\ub098\\\\\\\\uc694?\\\\x22,\\\\x22lcky\\\\x22:\\\\x22I\\\\\\\\u2019m Feeling Lucky\\\\x22,\\\\x22lml\\\\x22:\\\\x22\\\\\\\\uc790\\\\\\\\uc138\\\\\\\\ud788 \\\\\\\\uc54c\\\\\\\\uc544\\\\\\\\ubcf4\\\\\\\\uae30\\\\x22,\\\\x22psrc\\\\x22:\\\\x22\\\\\\\\uac80\\\\\\\\uc0c9\\\\\\\\uc5b4\\\\\\\\uac00 \\\\\\\\u003Ca href\\\\x3d\\\\\\\\\\\\x22/history\\\\\\\\\\\\x22\\\\\\\\u003E\\\\\\\\uc6f9 \\\\\\\\uae30\\\\\\\\ub85d\\\\\\\\u003C/a\\\\\\\\u003E\\\\\\\\uc5d0\\\\\\\\uc11c \\\\\\\\uc0ad\\\\\\\\uc81c\\\\\\\\ub418\\\\\\\\uc5c8\\\\\\\\uc2b5\\\\\\\\ub2c8\\\\\\\\ub2e4.\\\\x22,\\\\x22psrl\\\\x22:\\\\x22\\\\\\\\uc0ad\\\\\\\\uc81c\\\\x22,\\\\x22sbit\\\\x22:\\\\x22\\\\\\\\uc774\\\\\\\\ubbf8\\\\\\\\uc9c0\\\\\\\\ub85c \\\\\\\\uac80\\\\\\\\uc0c9\\\\x22,\\\\x22srch\\\\x22:\\\\x22Google \\\\\\\\uac80\\\\\\\\uc0c9\\\\x22},\\\\x22ovr\\\\x22:{},\\\\x22pq\\\\x22:\\\\x22\\\\x22,\\\\x22rfs\\\\x22:[],\\\\x22stok\\\\x22:\\\\x22bwhg4gj4nJtAHRUvRH6YBKUTK7s\\\\x22}}\\';google.pmc=JSON.parse(pmc);})();(function(){var b=function(a){var c=0;return function(){return c<a.length?{done:!1,value:a[c++]}:{done:!0}}};\\nvar e=this||self;var g,h;a:{for(var k=[\"CLOSURE_FLAGS\"],l=e,n=0;n<k.length;n++)if(l=l[k[n]],l==null){h=null;break a}h=l}var p=h&&h[610401301];g=p!=null?p:!1;var q,r=e.navigator;q=r?r.userAgentData||null:null;function t(a){return g?q?q.brands.some(function(c){return(c=c.brand)&&c.indexOf(a)!=-1}):!1:!1}function u(a){var c;a:{if(c=e.navigator)if(c=c.userAgent)break a;c=\"\"}return c.indexOf(a)!=-1};function v(){return g?!!q&&q.brands.length>0:!1}function w(){return u(\"Safari\")&&!(x()||(v()?0:u(\"Coast\"))||(v()?0:u(\"Opera\"))||(v()?0:u(\"Edge\"))||(v()?t(\"Microsoft Edge\"):u(\"Edg/\"))||(v()?t(\"Opera\"):u(\"OPR\"))||u(\"Firefox\")||u(\"FxiOS\")||u(\"Silk\")||u(\"Android\"))}function x(){return v()?t(\"Chromium\"):(u(\"Chrome\")||u(\"CriOS\"))&&!(v()?0:u(\"Edge\"))||u(\"Silk\")}function y(){return u(\"Android\")&&!(x()||u(\"Firefox\")||u(\"FxiOS\")||(v()?0:u(\"Opera\"))||u(\"Silk\"))};var z=v()?!1:u(\"Trident\")||u(\"MSIE\");y();x();w();var A=!z&&!w(),D=function(a){if(/-[a-z]/.test(\"ved\"))return null;if(A&&a.dataset){if(y()&&!(\"ved\"in a.dataset))return null;a=a.dataset.ved;return a===void 0?null:a}return a.getAttribute(\"data-\"+\"ved\".replace(/([A-Z])/g,\"-$1\").toLowerCase())};var E=[],F=null;function G(a){a=a.target;var c=performance.now(),f=[],H=f.concat,d=E;if(!(d instanceof Array)){var m=typeof Symbol!=\"undefined\"&&Symbol.iterator&&d[Symbol.iterator];if(m)d=m.call(d);else if(typeof d.length==\"number\")d={next:b(d)};else throw Error(\"b`\"+String(d));for(var B=[];!(m=d.next()).done;)B.push(m.value);d=B}E=H.call(f,d,[c]);if(a&&a instanceof HTMLElement)if(a===F){if(c=E.length>=4)c=(E[E.length-1]-E[E.length-4])/1E3<5;if(c){c=google.getEI(a);a.hasAttribute(\"data-ved\")?f=a?D(a)||\"\":\"\":f=(f=\\na.closest(\"[data-ved]\"))?D(f)||\"\":\"\";f=f||\"\";if(a.hasAttribute(\"jsname\"))a=a.getAttribute(\"jsname\");else{var C;a=(C=a.closest(\"[jsname]\"))==null?void 0:C.getAttribute(\"jsname\")}google.log(\"rcm\",\"&ei=\"+c+\"&tgtved=\"+f+\"&jsname=\"+(a||\"\"))}}else F=a,E=[c]}window.document.addEventListener(\"DOMContentLoaded\",function(){document.body.addEventListener(\"click\",G)});}).call(this);</script></body></html>'"
      ]
     },
     "execution_count": 5,
     "metadata": {},
     "output_type": "execute_result"
    }
   ],
   "source": [
    "r.text"
   ]
  },
  {
   "cell_type": "markdown",
   "metadata": {},
   "source": [
    "# requests 테스트"
   ]
  },
  {
   "cell_type": "code",
   "execution_count": 16,
   "metadata": {},
   "outputs": [
    {
     "data": {
      "text/plain": [
       "200"
      ]
     },
     "execution_count": 16,
     "metadata": {},
     "output_type": "execute_result"
    }
   ],
   "source": [
    "url = 'https://jsonplaceholder.typicode.com/posts'\n",
    "r = requests.get(url)\n",
    "r.status_code"
   ]
  },
  {
   "cell_type": "code",
   "execution_count": 14,
   "metadata": {},
   "outputs": [
    {
     "data": {
      "text/plain": [
       "b'[\\n  {\\n    \"userId\": 1,\\n    \"id\": 1,\\n    \"title\": \"sunt aut facere repellat provident occaecati excepturi optio reprehenderit\",\\n    \"body\": \"quia et suscipit\\\\nsuscipit recusandae consequuntur expedita et cum\\\\nreprehenderit molestiae ut ut quas totam\\\\nnostrum rerum est autem sunt rem eveniet architecto\"\\n  },\\n  {\\n    \"userId\": 1,\\n    \"id\": 2,\\n    \"title\": \"qui est esse\",\\n    \"body\": \"est rerum tempore vitae\\\\nsequi sint nihil reprehenderit dolor beatae ea dolores neque\\\\nfugiat blanditiis voluptate porro vel nihil molestiae ut reiciendis\\\\nqui aperiam non debitis possimus qui neque nisi nulla\"\\n  },\\n  {\\n    \"userId\": 1,\\n    \"id\": 3,\\n    \"title\": \"ea molestias quasi exercitationem repellat qui ipsa sit aut\",\\n    \"body\": \"et iusto sed quo iure\\\\nvoluptatem occaecati omnis eligendi aut ad\\\\nvoluptatem doloribus vel accusantium quis pariatur\\\\nmolestiae porro eius odio et labore et velit aut\"\\n  },\\n  {\\n    \"userId\": 1,\\n    \"id\": 4,\\n    \"title\": \"eum et est occaecati\",\\n    \"body\": \"ullam et saepe reiciendis voluptatem adipisci\\\\nsit amet autem assumenda provident rerum culpa\\\\nquis hic commodi nesciunt rem tenetur doloremque ipsam iure\\\\nquis sunt voluptatem rerum illo velit\"\\n  },\\n  {\\n    \"userId\": 1,\\n    \"id\": 5,\\n    \"title\": \"nesciunt quas odio\",\\n    \"body\": \"repudiandae veniam quaerat sunt sed\\\\nalias aut fugiat sit autem sed est\\\\nvoluptatem omnis possimus esse voluptatibus quis\\\\nest aut tenetur dolor neque\"\\n  },\\n  {\\n    \"userId\": 1,\\n    \"id\": 6,\\n    \"title\": \"dolorem eum magni eos aperiam quia\",\\n    \"body\": \"ut aspernatur corporis harum nihil quis provident sequi\\\\nmollitia nobis aliquid molestiae\\\\nperspiciatis et ea nemo ab reprehenderit accusantium quas\\\\nvoluptate dolores velit et doloremque molestiae\"\\n  },\\n  {\\n    \"userId\": 1,\\n    \"id\": 7,\\n    \"title\": \"magnam facilis autem\",\\n    \"body\": \"dolore placeat quibusdam ea quo vitae\\\\nmagni quis enim qui quis quo nemo aut saepe\\\\nquidem repellat excepturi ut quia\\\\nsunt ut sequi eos ea sed quas\"\\n  },\\n  {\\n    \"userId\": 1,\\n    \"id\": 8,\\n    \"title\": \"dolorem dolore est ipsam\",\\n    \"body\": \"dignissimos aperiam dolorem qui eum\\\\nfacilis quibusdam animi sint suscipit qui sint possimus cum\\\\nquaerat magni maiores excepturi\\\\nipsam ut commodi dolor voluptatum modi aut vitae\"\\n  },\\n  {\\n    \"userId\": 1,\\n    \"id\": 9,\\n    \"title\": \"nesciunt iure omnis dolorem tempora et accusantium\",\\n    \"body\": \"consectetur animi nesciunt iure dolore\\\\nenim quia ad\\\\nveniam autem ut quam aut nobis\\\\net est aut quod aut provident voluptas autem voluptas\"\\n  },\\n  {\\n    \"userId\": 1,\\n    \"id\": 10,\\n    \"title\": \"optio molestias id quia eum\",\\n    \"body\": \"quo et expedita modi cum officia vel magni\\\\ndoloribus qui repudiandae\\\\nvero nisi sit\\\\nquos veniam quod sed accusamus veritatis error\"\\n  },\\n  {\\n    \"userId\": 2,\\n    \"id\": 11,\\n    \"title\": \"et ea vero quia laudantium autem\",\\n    \"body\": \"delectus reiciendis molestiae occaecati non minima eveniet qui voluptatibus\\\\naccusamus in eum beatae sit\\\\nvel qui neque voluptates ut commodi qui incidunt\\\\nut animi commodi\"\\n  },\\n  {\\n    \"userId\": 2,\\n    \"id\": 12,\\n    \"title\": \"in quibusdam tempore odit est dolorem\",\\n    \"body\": \"itaque id aut magnam\\\\npraesentium quia et ea odit et ea voluptas et\\\\nsapiente quia nihil amet occaecati quia id voluptatem\\\\nincidunt ea est distinctio odio\"\\n  },\\n  {\\n    \"userId\": 2,\\n    \"id\": 13,\\n    \"title\": \"dolorum ut in voluptas mollitia et saepe quo animi\",\\n    \"body\": \"aut dicta possimus sint mollitia voluptas commodi quo doloremque\\\\niste corrupti reiciendis voluptatem eius rerum\\\\nsit cumque quod eligendi laborum minima\\\\nperferendis recusandae assumenda consectetur porro architecto ipsum ipsam\"\\n  },\\n  {\\n    \"userId\": 2,\\n    \"id\": 14,\\n    \"title\": \"voluptatem eligendi optio\",\\n    \"body\": \"fuga et accusamus dolorum perferendis illo voluptas\\\\nnon doloremque neque facere\\\\nad qui dolorum molestiae beatae\\\\nsed aut voluptas totam sit illum\"\\n  },\\n  {\\n    \"userId\": 2,\\n    \"id\": 15,\\n    \"title\": \"eveniet quod temporibus\",\\n    \"body\": \"reprehenderit quos placeat\\\\nvelit minima officia dolores impedit repudiandae molestiae nam\\\\nvoluptas recusandae quis delectus\\\\nofficiis harum fugiat vitae\"\\n  },\\n  {\\n    \"userId\": 2,\\n    \"id\": 16,\\n    \"title\": \"sint suscipit perspiciatis velit dolorum rerum ipsa laboriosam odio\",\\n    \"body\": \"suscipit nam nisi quo aperiam aut\\\\nasperiores eos fugit maiores voluptatibus quia\\\\nvoluptatem quis ullam qui in alias quia est\\\\nconsequatur magni mollitia accusamus ea nisi voluptate dicta\"\\n  },\\n  {\\n    \"userId\": 2,\\n    \"id\": 17,\\n    \"title\": \"fugit voluptas sed molestias voluptatem provident\",\\n    \"body\": \"eos voluptas et aut odit natus earum\\\\naspernatur fuga molestiae ullam\\\\ndeserunt ratione qui eos\\\\nqui nihil ratione nemo velit ut aut id quo\"\\n  },\\n  {\\n    \"userId\": 2,\\n    \"id\": 18,\\n    \"title\": \"voluptate et itaque vero tempora molestiae\",\\n    \"body\": \"eveniet quo quis\\\\nlaborum totam consequatur non dolor\\\\nut et est repudiandae\\\\nest voluptatem vel debitis et magnam\"\\n  },\\n  {\\n    \"userId\": 2,\\n    \"id\": 19,\\n    \"title\": \"adipisci placeat illum aut reiciendis qui\",\\n    \"body\": \"illum quis cupiditate provident sit magnam\\\\nea sed aut omnis\\\\nveniam maiores ullam consequatur atque\\\\nadipisci quo iste expedita sit quos voluptas\"\\n  },\\n  {\\n    \"userId\": 2,\\n    \"id\": 20,\\n    \"title\": \"doloribus ad provident suscipit at\",\\n    \"body\": \"qui consequuntur ducimus possimus quisquam amet similique\\\\nsuscipit porro ipsam amet\\\\neos veritatis officiis exercitationem vel fugit aut necessitatibus totam\\\\nomnis rerum consequatur expedita quidem cumque explicabo\"\\n  },\\n  {\\n    \"userId\": 3,\\n    \"id\": 21,\\n    \"title\": \"asperiores ea ipsam voluptatibus modi minima quia sint\",\\n    \"body\": \"repellat aliquid praesentium dolorem quo\\\\nsed totam minus non itaque\\\\nnihil labore molestiae sunt dolor eveniet hic recusandae veniam\\\\ntempora et tenetur expedita sunt\"\\n  },\\n  {\\n    \"userId\": 3,\\n    \"id\": 22,\\n    \"title\": \"dolor sint quo a velit explicabo quia nam\",\\n    \"body\": \"eos qui et ipsum ipsam suscipit aut\\\\nsed omnis non odio\\\\nexpedita earum mollitia molestiae aut atque rem suscipit\\\\nnam impedit esse\"\\n  },\\n  {\\n    \"userId\": 3,\\n    \"id\": 23,\\n    \"title\": \"maxime id vitae nihil numquam\",\\n    \"body\": \"veritatis unde neque eligendi\\\\nquae quod architecto quo neque vitae\\\\nest illo sit tempora doloremque fugit quod\\\\net et vel beatae sequi ullam sed tenetur perspiciatis\"\\n  },\\n  {\\n    \"userId\": 3,\\n    \"id\": 24,\\n    \"title\": \"autem hic labore sunt dolores incidunt\",\\n    \"body\": \"enim et ex nulla\\\\nomnis voluptas quia qui\\\\nvoluptatem consequatur numquam aliquam sunt\\\\ntotam recusandae id dignissimos aut sed asperiores deserunt\"\\n  },\\n  {\\n    \"userId\": 3,\\n    \"id\": 25,\\n    \"title\": \"rem alias distinctio quo quis\",\\n    \"body\": \"ullam consequatur ut\\\\nomnis quis sit vel consequuntur\\\\nipsa eligendi ipsum molestiae et omnis error nostrum\\\\nmolestiae illo tempore quia et distinctio\"\\n  },\\n  {\\n    \"userId\": 3,\\n    \"id\": 26,\\n    \"title\": \"est et quae odit qui non\",\\n    \"body\": \"similique esse doloribus nihil accusamus\\\\nomnis dolorem fuga consequuntur reprehenderit fugit recusandae temporibus\\\\nperspiciatis cum ut laudantium\\\\nomnis aut molestiae vel vero\"\\n  },\\n  {\\n    \"userId\": 3,\\n    \"id\": 27,\\n    \"title\": \"quasi id et eos tenetur aut quo autem\",\\n    \"body\": \"eum sed dolores ipsam sint possimus debitis occaecati\\\\ndebitis qui qui et\\\\nut placeat enim earum aut odit facilis\\\\nconsequatur suscipit necessitatibus rerum sed inventore temporibus consequatur\"\\n  },\\n  {\\n    \"userId\": 3,\\n    \"id\": 28,\\n    \"title\": \"delectus ullam et corporis nulla voluptas sequi\",\\n    \"body\": \"non et quaerat ex quae ad maiores\\\\nmaiores recusandae totam aut blanditiis mollitia quas illo\\\\nut voluptatibus voluptatem\\\\nsimilique nostrum eum\"\\n  },\\n  {\\n    \"userId\": 3,\\n    \"id\": 29,\\n    \"title\": \"iusto eius quod necessitatibus culpa ea\",\\n    \"body\": \"odit magnam ut saepe sed non qui\\\\ntempora atque nihil\\\\naccusamus illum doloribus illo dolor\\\\neligendi repudiandae odit magni similique sed cum maiores\"\\n  },\\n  {\\n    \"userId\": 3,\\n    \"id\": 30,\\n    \"title\": \"a quo magni similique perferendis\",\\n    \"body\": \"alias dolor cumque\\\\nimpedit blanditiis non eveniet odio maxime\\\\nblanditiis amet eius quis tempora quia autem rem\\\\na provident perspiciatis quia\"\\n  },\\n  {\\n    \"userId\": 4,\\n    \"id\": 31,\\n    \"title\": \"ullam ut quidem id aut vel consequuntur\",\\n    \"body\": \"debitis eius sed quibusdam non quis consectetur vitae\\\\nimpedit ut qui consequatur sed aut in\\\\nquidem sit nostrum et maiores adipisci atque\\\\nquaerat voluptatem adipisci repudiandae\"\\n  },\\n  {\\n    \"userId\": 4,\\n    \"id\": 32,\\n    \"title\": \"doloremque illum aliquid sunt\",\\n    \"body\": \"deserunt eos nobis asperiores et hic\\\\nest debitis repellat molestiae optio\\\\nnihil ratione ut eos beatae quibusdam distinctio maiores\\\\nearum voluptates et aut adipisci ea maiores voluptas maxime\"\\n  },\\n  {\\n    \"userId\": 4,\\n    \"id\": 33,\\n    \"title\": \"qui explicabo molestiae dolorem\",\\n    \"body\": \"rerum ut et numquam laborum odit est sit\\\\nid qui sint in\\\\nquasi tenetur tempore aperiam et quaerat qui in\\\\nrerum officiis sequi cumque quod\"\\n  },\\n  {\\n    \"userId\": 4,\\n    \"id\": 34,\\n    \"title\": \"magnam ut rerum iure\",\\n    \"body\": \"ea velit perferendis earum ut voluptatem voluptate itaque iusto\\\\ntotam pariatur in\\\\nnemo voluptatem voluptatem autem magni tempora minima in\\\\nest distinctio qui assumenda accusamus dignissimos officia nesciunt nobis\"\\n  },\\n  {\\n    \"userId\": 4,\\n    \"id\": 35,\\n    \"title\": \"id nihil consequatur molestias animi provident\",\\n    \"body\": \"nisi error delectus possimus ut eligendi vitae\\\\nplaceat eos harum cupiditate facilis reprehenderit voluptatem beatae\\\\nmodi ducimus quo illum voluptas eligendi\\\\net nobis quia fugit\"\\n  },\\n  {\\n    \"userId\": 4,\\n    \"id\": 36,\\n    \"title\": \"fuga nam accusamus voluptas reiciendis itaque\",\\n    \"body\": \"ad mollitia et omnis minus architecto odit\\\\nvoluptas doloremque maxime aut non ipsa qui alias veniam\\\\nblanditiis culpa aut quia nihil cumque facere et occaecati\\\\nqui aspernatur quia eaque ut aperiam inventore\"\\n  },\\n  {\\n    \"userId\": 4,\\n    \"id\": 37,\\n    \"title\": \"provident vel ut sit ratione est\",\\n    \"body\": \"debitis et eaque non officia sed nesciunt pariatur vel\\\\nvoluptatem iste vero et ea\\\\nnumquam aut expedita ipsum nulla in\\\\nvoluptates omnis consequatur aut enim officiis in quam qui\"\\n  },\\n  {\\n    \"userId\": 4,\\n    \"id\": 38,\\n    \"title\": \"explicabo et eos deleniti nostrum ab id repellendus\",\\n    \"body\": \"animi esse sit aut sit nesciunt assumenda eum voluptas\\\\nquia voluptatibus provident quia necessitatibus ea\\\\nrerum repudiandae quia voluptatem delectus fugit aut id quia\\\\nratione optio eos iusto veniam iure\"\\n  },\\n  {\\n    \"userId\": 4,\\n    \"id\": 39,\\n    \"title\": \"eos dolorem iste accusantium est eaque quam\",\\n    \"body\": \"corporis rerum ducimus vel eum accusantium\\\\nmaxime aspernatur a porro possimus iste omnis\\\\nest in deleniti asperiores fuga aut\\\\nvoluptas sapiente vel dolore minus voluptatem incidunt ex\"\\n  },\\n  {\\n    \"userId\": 4,\\n    \"id\": 40,\\n    \"title\": \"enim quo cumque\",\\n    \"body\": \"ut voluptatum aliquid illo tenetur nemo sequi quo facilis\\\\nipsum rem optio mollitia quas\\\\nvoluptatem eum voluptas qui\\\\nunde omnis voluptatem iure quasi maxime voluptas nam\"\\n  },\\n  {\\n    \"userId\": 5,\\n    \"id\": 41,\\n    \"title\": \"non est facere\",\\n    \"body\": \"molestias id nostrum\\\\nexcepturi molestiae dolore omnis repellendus quaerat saepe\\\\nconsectetur iste quaerat tenetur asperiores accusamus ex ut\\\\nnam quidem est ducimus sunt debitis saepe\"\\n  },\\n  {\\n    \"userId\": 5,\\n    \"id\": 42,\\n    \"title\": \"commodi ullam sint et excepturi error explicabo praesentium voluptas\",\\n    \"body\": \"odio fugit voluptatum ducimus earum autem est incidunt voluptatem\\\\nodit reiciendis aliquam sunt sequi nulla dolorem\\\\nnon facere repellendus voluptates quia\\\\nratione harum vitae ut\"\\n  },\\n  {\\n    \"userId\": 5,\\n    \"id\": 43,\\n    \"title\": \"eligendi iste nostrum consequuntur adipisci praesentium sit beatae perferendis\",\\n    \"body\": \"similique fugit est\\\\nillum et dolorum harum et voluptate eaque quidem\\\\nexercitationem quos nam commodi possimus cum odio nihil nulla\\\\ndolorum exercitationem magnam ex et a et distinctio debitis\"\\n  },\\n  {\\n    \"userId\": 5,\\n    \"id\": 44,\\n    \"title\": \"optio dolor molestias sit\",\\n    \"body\": \"temporibus est consectetur dolore\\\\net libero debitis vel velit laboriosam quia\\\\nipsum quibusdam qui itaque fuga rem aut\\\\nea et iure quam sed maxime ut distinctio quae\"\\n  },\\n  {\\n    \"userId\": 5,\\n    \"id\": 45,\\n    \"title\": \"ut numquam possimus omnis eius suscipit laudantium iure\",\\n    \"body\": \"est natus reiciendis nihil possimus aut provident\\\\nex et dolor\\\\nrepellat pariatur est\\\\nnobis rerum repellendus dolorem autem\"\\n  },\\n  {\\n    \"userId\": 5,\\n    \"id\": 46,\\n    \"title\": \"aut quo modi neque nostrum ducimus\",\\n    \"body\": \"voluptatem quisquam iste\\\\nvoluptatibus natus officiis facilis dolorem\\\\nquis quas ipsam\\\\nvel et voluptatum in aliquid\"\\n  },\\n  {\\n    \"userId\": 5,\\n    \"id\": 47,\\n    \"title\": \"quibusdam cumque rem aut deserunt\",\\n    \"body\": \"voluptatem assumenda ut qui ut cupiditate aut impedit veniam\\\\noccaecati nemo illum voluptatem laudantium\\\\nmolestiae beatae rerum ea iure soluta nostrum\\\\neligendi et voluptate\"\\n  },\\n  {\\n    \"userId\": 5,\\n    \"id\": 48,\\n    \"title\": \"ut voluptatem illum ea doloribus itaque eos\",\\n    \"body\": \"voluptates quo voluptatem facilis iure occaecati\\\\nvel assumenda rerum officia et\\\\nillum perspiciatis ab deleniti\\\\nlaudantium repellat ad ut et autem reprehenderit\"\\n  },\\n  {\\n    \"userId\": 5,\\n    \"id\": 49,\\n    \"title\": \"laborum non sunt aut ut assumenda perspiciatis voluptas\",\\n    \"body\": \"inventore ab sint\\\\nnatus fugit id nulla sequi architecto nihil quaerat\\\\neos tenetur in in eum veritatis non\\\\nquibusdam officiis aspernatur cumque aut commodi aut\"\\n  },\\n  {\\n    \"userId\": 5,\\n    \"id\": 50,\\n    \"title\": \"repellendus qui recusandae incidunt voluptates tenetur qui omnis exercitationem\",\\n    \"body\": \"error suscipit maxime adipisci consequuntur recusandae\\\\nvoluptas eligendi et est et voluptates\\\\nquia distinctio ab amet quaerat molestiae et vitae\\\\nadipisci impedit sequi nesciunt quis consectetur\"\\n  },\\n  {\\n    \"userId\": 6,\\n    \"id\": 51,\\n    \"title\": \"soluta aliquam aperiam consequatur illo quis voluptas\",\\n    \"body\": \"sunt dolores aut doloribus\\\\ndolore doloribus voluptates tempora et\\\\ndoloremque et quo\\\\ncum asperiores sit consectetur dolorem\"\\n  },\\n  {\\n    \"userId\": 6,\\n    \"id\": 52,\\n    \"title\": \"qui enim et consequuntur quia animi quis voluptate quibusdam\",\\n    \"body\": \"iusto est quibusdam fuga quas quaerat molestias\\\\na enim ut sit accusamus enim\\\\ntemporibus iusto accusantium provident architecto\\\\nsoluta esse reprehenderit qui laborum\"\\n  },\\n  {\\n    \"userId\": 6,\\n    \"id\": 53,\\n    \"title\": \"ut quo aut ducimus alias\",\\n    \"body\": \"minima harum praesentium eum rerum illo dolore\\\\nquasi exercitationem rerum nam\\\\nporro quis neque quo\\\\nconsequatur minus dolor quidem veritatis sunt non explicabo similique\"\\n  },\\n  {\\n    \"userId\": 6,\\n    \"id\": 54,\\n    \"title\": \"sit asperiores ipsam eveniet odio non quia\",\\n    \"body\": \"totam corporis dignissimos\\\\nvitae dolorem ut occaecati accusamus\\\\nex velit deserunt\\\\net exercitationem vero incidunt corrupti mollitia\"\\n  },\\n  {\\n    \"userId\": 6,\\n    \"id\": 55,\\n    \"title\": \"sit vel voluptatem et non libero\",\\n    \"body\": \"debitis excepturi ea perferendis harum libero optio\\\\neos accusamus cum fuga ut sapiente repudiandae\\\\net ut incidunt omnis molestiae\\\\nnihil ut eum odit\"\\n  },\\n  {\\n    \"userId\": 6,\\n    \"id\": 56,\\n    \"title\": \"qui et at rerum necessitatibus\",\\n    \"body\": \"aut est omnis dolores\\\\nneque rerum quod ea rerum velit pariatur beatae excepturi\\\\net provident voluptas corrupti\\\\ncorporis harum reprehenderit dolores eligendi\"\\n  },\\n  {\\n    \"userId\": 6,\\n    \"id\": 57,\\n    \"title\": \"sed ab est est\",\\n    \"body\": \"at pariatur consequuntur earum quidem\\\\nquo est laudantium soluta voluptatem\\\\nqui ullam et est\\\\net cum voluptas voluptatum repellat est\"\\n  },\\n  {\\n    \"userId\": 6,\\n    \"id\": 58,\\n    \"title\": \"voluptatum itaque dolores nisi et quasi\",\\n    \"body\": \"veniam voluptatum quae adipisci id\\\\net id quia eos ad et dolorem\\\\naliquam quo nisi sunt eos impedit error\\\\nad similique veniam\"\\n  },\\n  {\\n    \"userId\": 6,\\n    \"id\": 59,\\n    \"title\": \"qui commodi dolor at maiores et quis id accusantium\",\\n    \"body\": \"perspiciatis et quam ea autem temporibus non voluptatibus qui\\\\nbeatae a earum officia nesciunt dolores suscipit voluptas et\\\\nanimi doloribus cum rerum quas et magni\\\\net hic ut ut commodi expedita sunt\"\\n  },\\n  {\\n    \"userId\": 6,\\n    \"id\": 60,\\n    \"title\": \"consequatur placeat omnis quisquam quia reprehenderit fugit veritatis facere\",\\n    \"body\": \"asperiores sunt ab assumenda cumque modi velit\\\\nqui esse omnis\\\\nvoluptate et fuga perferendis voluptas\\\\nillo ratione amet aut et omnis\"\\n  },\\n  {\\n    \"userId\": 7,\\n    \"id\": 61,\\n    \"title\": \"voluptatem doloribus consectetur est ut ducimus\",\\n    \"body\": \"ab nemo optio odio\\\\ndelectus tenetur corporis similique nobis repellendus rerum omnis facilis\\\\nvero blanditiis debitis in nesciunt doloribus dicta dolores\\\\nmagnam minus velit\"\\n  },\\n  {\\n    \"userId\": 7,\\n    \"id\": 62,\\n    \"title\": \"beatae enim quia vel\",\\n    \"body\": \"enim aspernatur illo distinctio quae praesentium\\\\nbeatae alias amet delectus qui voluptate distinctio\\\\nodit sint accusantium autem omnis\\\\nquo molestiae omnis ea eveniet optio\"\\n  },\\n  {\\n    \"userId\": 7,\\n    \"id\": 63,\\n    \"title\": \"voluptas blanditiis repellendus animi ducimus error sapiente et suscipit\",\\n    \"body\": \"enim adipisci aspernatur nemo\\\\nnumquam omnis facere dolorem dolor ex quis temporibus incidunt\\\\nab delectus culpa quo reprehenderit blanditiis asperiores\\\\naccusantium ut quam in voluptatibus voluptas ipsam dicta\"\\n  },\\n  {\\n    \"userId\": 7,\\n    \"id\": 64,\\n    \"title\": \"et fugit quas eum in in aperiam quod\",\\n    \"body\": \"id velit blanditiis\\\\neum ea voluptatem\\\\nmolestiae sint occaecati est eos perspiciatis\\\\nincidunt a error provident eaque aut aut qui\"\\n  },\\n  {\\n    \"userId\": 7,\\n    \"id\": 65,\\n    \"title\": \"consequatur id enim sunt et et\",\\n    \"body\": \"voluptatibus ex esse\\\\nsint explicabo est aliquid cumque adipisci fuga repellat labore\\\\nmolestiae corrupti ex saepe at asperiores et perferendis\\\\nnatus id esse incidunt pariatur\"\\n  },\\n  {\\n    \"userId\": 7,\\n    \"id\": 66,\\n    \"title\": \"repudiandae ea animi iusto\",\\n    \"body\": \"officia veritatis tenetur vero qui itaque\\\\nsint non ratione\\\\nsed et ut asperiores iusto eos molestiae nostrum\\\\nveritatis quibusdam et nemo iusto saepe\"\\n  },\\n  {\\n    \"userId\": 7,\\n    \"id\": 67,\\n    \"title\": \"aliquid eos sed fuga est maxime repellendus\",\\n    \"body\": \"reprehenderit id nostrum\\\\nvoluptas doloremque pariatur sint et accusantium quia quod aspernatur\\\\net fugiat amet\\\\nnon sapiente et consequatur necessitatibus molestiae\"\\n  },\\n  {\\n    \"userId\": 7,\\n    \"id\": 68,\\n    \"title\": \"odio quis facere architecto reiciendis optio\",\\n    \"body\": \"magnam molestiae perferendis quisquam\\\\nqui cum reiciendis\\\\nquaerat animi amet hic inventore\\\\nea quia deleniti quidem saepe porro velit\"\\n  },\\n  {\\n    \"userId\": 7,\\n    \"id\": 69,\\n    \"title\": \"fugiat quod pariatur odit minima\",\\n    \"body\": \"officiis error culpa consequatur modi asperiores et\\\\ndolorum assumenda voluptas et vel qui aut vel rerum\\\\nvoluptatum quisquam perspiciatis quia rerum consequatur totam quas\\\\nsequi commodi repudiandae asperiores et saepe a\"\\n  },\\n  {\\n    \"userId\": 7,\\n    \"id\": 70,\\n    \"title\": \"voluptatem laborum magni\",\\n    \"body\": \"sunt repellendus quae\\\\nest asperiores aut deleniti esse accusamus repellendus quia aut\\\\nquia dolorem unde\\\\neum tempora esse dolore\"\\n  },\\n  {\\n    \"userId\": 8,\\n    \"id\": 71,\\n    \"title\": \"et iusto veniam et illum aut fuga\",\\n    \"body\": \"occaecati a doloribus\\\\niste saepe consectetur placeat eum voluptate dolorem et\\\\nqui quo quia voluptas\\\\nrerum ut id enim velit est perferendis\"\\n  },\\n  {\\n    \"userId\": 8,\\n    \"id\": 72,\\n    \"title\": \"sint hic doloribus consequatur eos non id\",\\n    \"body\": \"quam occaecati qui deleniti consectetur\\\\nconsequatur aut facere quas exercitationem aliquam hic voluptas\\\\nneque id sunt ut aut accusamus\\\\nsunt consectetur expedita inventore velit\"\\n  },\\n  {\\n    \"userId\": 8,\\n    \"id\": 73,\\n    \"title\": \"consequuntur deleniti eos quia temporibus ab aliquid at\",\\n    \"body\": \"voluptatem cumque tenetur consequatur expedita ipsum nemo quia explicabo\\\\naut eum minima consequatur\\\\ntempore cumque quae est et\\\\net in consequuntur voluptatem voluptates aut\"\\n  },\\n  {\\n    \"userId\": 8,\\n    \"id\": 74,\\n    \"title\": \"enim unde ratione doloribus quas enim ut sit sapiente\",\\n    \"body\": \"odit qui et et necessitatibus sint veniam\\\\nmollitia amet doloremque molestiae commodi similique magnam et quam\\\\nblanditiis est itaque\\\\nquo et tenetur ratione occaecati molestiae tempora\"\\n  },\\n  {\\n    \"userId\": 8,\\n    \"id\": 75,\\n    \"title\": \"dignissimos eum dolor ut enim et delectus in\",\\n    \"body\": \"commodi non non omnis et voluptas sit\\\\nautem aut nobis magnam et sapiente voluptatem\\\\net laborum repellat qui delectus facilis temporibus\\\\nrerum amet et nemo voluptate expedita adipisci error dolorem\"\\n  },\\n  {\\n    \"userId\": 8,\\n    \"id\": 76,\\n    \"title\": \"doloremque officiis ad et non perferendis\",\\n    \"body\": \"ut animi facere\\\\ntotam iusto tempore\\\\nmolestiae eum aut et dolorem aperiam\\\\nquaerat recusandae totam odio\"\\n  },\\n  {\\n    \"userId\": 8,\\n    \"id\": 77,\\n    \"title\": \"necessitatibus quasi exercitationem odio\",\\n    \"body\": \"modi ut in nulla repudiandae dolorum nostrum eos\\\\naut consequatur omnis\\\\nut incidunt est omnis iste et quam\\\\nvoluptates sapiente aliquam asperiores nobis amet corrupti repudiandae provident\"\\n  },\\n  {\\n    \"userId\": 8,\\n    \"id\": 78,\\n    \"title\": \"quam voluptatibus rerum veritatis\",\\n    \"body\": \"nobis facilis odit tempore cupiditate quia\\\\nassumenda doloribus rerum qui ea\\\\nillum et qui totam\\\\naut veniam repellendus\"\\n  },\\n  {\\n    \"userId\": 8,\\n    \"id\": 79,\\n    \"title\": \"pariatur consequatur quia magnam autem omnis non amet\",\\n    \"body\": \"libero accusantium et et facere incidunt sit dolorem\\\\nnon excepturi qui quia sed laudantium\\\\nquisquam molestiae ducimus est\\\\nofficiis esse molestiae iste et quos\"\\n  },\\n  {\\n    \"userId\": 8,\\n    \"id\": 80,\\n    \"title\": \"labore in ex et explicabo corporis aut quas\",\\n    \"body\": \"ex quod dolorem ea eum iure qui provident amet\\\\nquia qui facere excepturi et repudiandae\\\\nasperiores molestias provident\\\\nminus incidunt vero fugit rerum sint sunt excepturi provident\"\\n  },\\n  {\\n    \"userId\": 9,\\n    \"id\": 81,\\n    \"title\": \"tempora rem veritatis voluptas quo dolores vero\",\\n    \"body\": \"facere qui nesciunt est voluptatum voluptatem nisi\\\\nsequi eligendi necessitatibus ea at rerum itaque\\\\nharum non ratione velit laboriosam quis consequuntur\\\\nex officiis minima doloremque voluptas ut aut\"\\n  },\\n  {\\n    \"userId\": 9,\\n    \"id\": 82,\\n    \"title\": \"laudantium voluptate suscipit sunt enim enim\",\\n    \"body\": \"ut libero sit aut totam inventore sunt\\\\nporro sint qui sunt molestiae\\\\nconsequatur cupiditate qui iste ducimus adipisci\\\\ndolor enim assumenda soluta laboriosam amet iste delectus hic\"\\n  },\\n  {\\n    \"userId\": 9,\\n    \"id\": 83,\\n    \"title\": \"odit et voluptates doloribus alias odio et\",\\n    \"body\": \"est molestiae facilis quis tempora numquam nihil qui\\\\nvoluptate sapiente consequatur est qui\\\\nnecessitatibus autem aut ipsa aperiam modi dolore numquam\\\\nreprehenderit eius rem quibusdam\"\\n  },\\n  {\\n    \"userId\": 9,\\n    \"id\": 84,\\n    \"title\": \"optio ipsam molestias necessitatibus occaecati facilis veritatis dolores aut\",\\n    \"body\": \"sint molestiae magni a et quos\\\\neaque et quasi\\\\nut rerum debitis similique veniam\\\\nrecusandae dignissimos dolor incidunt consequatur odio\"\\n  },\\n  {\\n    \"userId\": 9,\\n    \"id\": 85,\\n    \"title\": \"dolore veritatis porro provident adipisci blanditiis et sunt\",\\n    \"body\": \"similique sed nisi voluptas iusto omnis\\\\nmollitia et quo\\\\nassumenda suscipit officia magnam sint sed tempora\\\\nenim provident pariatur praesentium atque animi amet ratione\"\\n  },\\n  {\\n    \"userId\": 9,\\n    \"id\": 86,\\n    \"title\": \"placeat quia et porro iste\",\\n    \"body\": \"quasi excepturi consequatur iste autem temporibus sed molestiae beatae\\\\net quaerat et esse ut\\\\nvoluptatem occaecati et vel explicabo autem\\\\nasperiores pariatur deserunt optio\"\\n  },\\n  {\\n    \"userId\": 9,\\n    \"id\": 87,\\n    \"title\": \"nostrum quis quasi placeat\",\\n    \"body\": \"eos et molestiae\\\\nnesciunt ut a\\\\ndolores perspiciatis repellendus repellat aliquid\\\\nmagnam sint rem ipsum est\"\\n  },\\n  {\\n    \"userId\": 9,\\n    \"id\": 88,\\n    \"title\": \"sapiente omnis fugit eos\",\\n    \"body\": \"consequatur omnis est praesentium\\\\nducimus non iste\\\\nneque hic deserunt\\\\nvoluptatibus veniam cum et rerum sed\"\\n  },\\n  {\\n    \"userId\": 9,\\n    \"id\": 89,\\n    \"title\": \"sint soluta et vel magnam aut ut sed qui\",\\n    \"body\": \"repellat aut aperiam totam temporibus autem et\\\\narchitecto magnam ut\\\\nconsequatur qui cupiditate rerum quia soluta dignissimos nihil iure\\\\ntempore quas est\"\\n  },\\n  {\\n    \"userId\": 9,\\n    \"id\": 90,\\n    \"title\": \"ad iusto omnis odit dolor voluptatibus\",\\n    \"body\": \"minus omnis soluta quia\\\\nqui sed adipisci voluptates illum ipsam voluptatem\\\\neligendi officia ut in\\\\neos soluta similique molestias praesentium blanditiis\"\\n  },\\n  {\\n    \"userId\": 10,\\n    \"id\": 91,\\n    \"title\": \"aut amet sed\",\\n    \"body\": \"libero voluptate eveniet aperiam sed\\\\nsunt placeat suscipit molestias\\\\nsimilique fugit nam natus\\\\nexpedita consequatur consequatur dolores quia eos et placeat\"\\n  },\\n  {\\n    \"userId\": 10,\\n    \"id\": 92,\\n    \"title\": \"ratione ex tenetur perferendis\",\\n    \"body\": \"aut et excepturi dicta laudantium sint rerum nihil\\\\nlaudantium et at\\\\na neque minima officia et similique libero et\\\\ncommodi voluptate qui\"\\n  },\\n  {\\n    \"userId\": 10,\\n    \"id\": 93,\\n    \"title\": \"beatae soluta recusandae\",\\n    \"body\": \"dolorem quibusdam ducimus consequuntur dicta aut quo laboriosam\\\\nvoluptatem quis enim recusandae ut sed sunt\\\\nnostrum est odit totam\\\\nsit error sed sunt eveniet provident qui nulla\"\\n  },\\n  {\\n    \"userId\": 10,\\n    \"id\": 94,\\n    \"title\": \"qui qui voluptates illo iste minima\",\\n    \"body\": \"aspernatur expedita soluta quo ab ut similique\\\\nexpedita dolores amet\\\\nsed temporibus distinctio magnam saepe deleniti\\\\nomnis facilis nam ipsum natus sint similique omnis\"\\n  },\\n  {\\n    \"userId\": 10,\\n    \"id\": 95,\\n    \"title\": \"id minus libero illum nam ad officiis\",\\n    \"body\": \"earum voluptatem facere provident blanditiis velit laboriosam\\\\npariatur accusamus odio saepe\\\\ncumque dolor qui a dicta ab doloribus consequatur omnis\\\\ncorporis cupiditate eaque assumenda ad nesciunt\"\\n  },\\n  {\\n    \"userId\": 10,\\n    \"id\": 96,\\n    \"title\": \"quaerat velit veniam amet cupiditate aut numquam ut sequi\",\\n    \"body\": \"in non odio excepturi sint eum\\\\nlabore voluptates vitae quia qui et\\\\ninventore itaque rerum\\\\nveniam non exercitationem delectus aut\"\\n  },\\n  {\\n    \"userId\": 10,\\n    \"id\": 97,\\n    \"title\": \"quas fugiat ut perspiciatis vero provident\",\\n    \"body\": \"eum non blanditiis soluta porro quibusdam voluptas\\\\nvel voluptatem qui placeat dolores qui velit aut\\\\nvel inventore aut cumque culpa explicabo aliquid at\\\\nperspiciatis est et voluptatem dignissimos dolor itaque sit nam\"\\n  },\\n  {\\n    \"userId\": 10,\\n    \"id\": 98,\\n    \"title\": \"laboriosam dolor voluptates\",\\n    \"body\": \"doloremque ex facilis sit sint culpa\\\\nsoluta assumenda eligendi non ut eius\\\\nsequi ducimus vel quasi\\\\nveritatis est dolores\"\\n  },\\n  {\\n    \"userId\": 10,\\n    \"id\": 99,\\n    \"title\": \"temporibus sit alias delectus eligendi possimus magni\",\\n    \"body\": \"quo deleniti praesentium dicta non quod\\\\naut est molestias\\\\nmolestias et officia quis nihil\\\\nitaque dolorem quia\"\\n  },\\n  {\\n    \"userId\": 10,\\n    \"id\": 100,\\n    \"title\": \"at nam consequatur ea labore ea harum\",\\n    \"body\": \"cupiditate quo est a modi nesciunt soluta\\\\nipsa voluptas error itaque dicta in\\\\nautem qui minus magnam et distinctio eum\\\\naccusamus ratione error aut\"\\n  }\\n]'"
      ]
     },
     "execution_count": 14,
     "metadata": {},
     "output_type": "execute_result"
    }
   ],
   "source": [
    "r.content"
   ]
  },
  {
   "cell_type": "code",
   "execution_count": 17,
   "metadata": {},
   "outputs": [
    {
     "data": {
      "text/plain": [
       "[{'userId': 1,\n",
       "  'id': 1,\n",
       "  'title': 'sunt aut facere repellat provident occaecati excepturi optio reprehenderit',\n",
       "  'body': 'quia et suscipit\\nsuscipit recusandae consequuntur expedita et cum\\nreprehenderit molestiae ut ut quas totam\\nnostrum rerum est autem sunt rem eveniet architecto'},\n",
       " {'userId': 1,\n",
       "  'id': 2,\n",
       "  'title': 'qui est esse',\n",
       "  'body': 'est rerum tempore vitae\\nsequi sint nihil reprehenderit dolor beatae ea dolores neque\\nfugiat blanditiis voluptate porro vel nihil molestiae ut reiciendis\\nqui aperiam non debitis possimus qui neque nisi nulla'},\n",
       " {'userId': 1,\n",
       "  'id': 3,\n",
       "  'title': 'ea molestias quasi exercitationem repellat qui ipsa sit aut',\n",
       "  'body': 'et iusto sed quo iure\\nvoluptatem occaecati omnis eligendi aut ad\\nvoluptatem doloribus vel accusantium quis pariatur\\nmolestiae porro eius odio et labore et velit aut'},\n",
       " {'userId': 1,\n",
       "  'id': 4,\n",
       "  'title': 'eum et est occaecati',\n",
       "  'body': 'ullam et saepe reiciendis voluptatem adipisci\\nsit amet autem assumenda provident rerum culpa\\nquis hic commodi nesciunt rem tenetur doloremque ipsam iure\\nquis sunt voluptatem rerum illo velit'},\n",
       " {'userId': 1,\n",
       "  'id': 5,\n",
       "  'title': 'nesciunt quas odio',\n",
       "  'body': 'repudiandae veniam quaerat sunt sed\\nalias aut fugiat sit autem sed est\\nvoluptatem omnis possimus esse voluptatibus quis\\nest aut tenetur dolor neque'},\n",
       " {'userId': 1,\n",
       "  'id': 6,\n",
       "  'title': 'dolorem eum magni eos aperiam quia',\n",
       "  'body': 'ut aspernatur corporis harum nihil quis provident sequi\\nmollitia nobis aliquid molestiae\\nperspiciatis et ea nemo ab reprehenderit accusantium quas\\nvoluptate dolores velit et doloremque molestiae'},\n",
       " {'userId': 1,\n",
       "  'id': 7,\n",
       "  'title': 'magnam facilis autem',\n",
       "  'body': 'dolore placeat quibusdam ea quo vitae\\nmagni quis enim qui quis quo nemo aut saepe\\nquidem repellat excepturi ut quia\\nsunt ut sequi eos ea sed quas'},\n",
       " {'userId': 1,\n",
       "  'id': 8,\n",
       "  'title': 'dolorem dolore est ipsam',\n",
       "  'body': 'dignissimos aperiam dolorem qui eum\\nfacilis quibusdam animi sint suscipit qui sint possimus cum\\nquaerat magni maiores excepturi\\nipsam ut commodi dolor voluptatum modi aut vitae'},\n",
       " {'userId': 1,\n",
       "  'id': 9,\n",
       "  'title': 'nesciunt iure omnis dolorem tempora et accusantium',\n",
       "  'body': 'consectetur animi nesciunt iure dolore\\nenim quia ad\\nveniam autem ut quam aut nobis\\net est aut quod aut provident voluptas autem voluptas'},\n",
       " {'userId': 1,\n",
       "  'id': 10,\n",
       "  'title': 'optio molestias id quia eum',\n",
       "  'body': 'quo et expedita modi cum officia vel magni\\ndoloribus qui repudiandae\\nvero nisi sit\\nquos veniam quod sed accusamus veritatis error'},\n",
       " {'userId': 2,\n",
       "  'id': 11,\n",
       "  'title': 'et ea vero quia laudantium autem',\n",
       "  'body': 'delectus reiciendis molestiae occaecati non minima eveniet qui voluptatibus\\naccusamus in eum beatae sit\\nvel qui neque voluptates ut commodi qui incidunt\\nut animi commodi'},\n",
       " {'userId': 2,\n",
       "  'id': 12,\n",
       "  'title': 'in quibusdam tempore odit est dolorem',\n",
       "  'body': 'itaque id aut magnam\\npraesentium quia et ea odit et ea voluptas et\\nsapiente quia nihil amet occaecati quia id voluptatem\\nincidunt ea est distinctio odio'},\n",
       " {'userId': 2,\n",
       "  'id': 13,\n",
       "  'title': 'dolorum ut in voluptas mollitia et saepe quo animi',\n",
       "  'body': 'aut dicta possimus sint mollitia voluptas commodi quo doloremque\\niste corrupti reiciendis voluptatem eius rerum\\nsit cumque quod eligendi laborum minima\\nperferendis recusandae assumenda consectetur porro architecto ipsum ipsam'},\n",
       " {'userId': 2,\n",
       "  'id': 14,\n",
       "  'title': 'voluptatem eligendi optio',\n",
       "  'body': 'fuga et accusamus dolorum perferendis illo voluptas\\nnon doloremque neque facere\\nad qui dolorum molestiae beatae\\nsed aut voluptas totam sit illum'},\n",
       " {'userId': 2,\n",
       "  'id': 15,\n",
       "  'title': 'eveniet quod temporibus',\n",
       "  'body': 'reprehenderit quos placeat\\nvelit minima officia dolores impedit repudiandae molestiae nam\\nvoluptas recusandae quis delectus\\nofficiis harum fugiat vitae'},\n",
       " {'userId': 2,\n",
       "  'id': 16,\n",
       "  'title': 'sint suscipit perspiciatis velit dolorum rerum ipsa laboriosam odio',\n",
       "  'body': 'suscipit nam nisi quo aperiam aut\\nasperiores eos fugit maiores voluptatibus quia\\nvoluptatem quis ullam qui in alias quia est\\nconsequatur magni mollitia accusamus ea nisi voluptate dicta'},\n",
       " {'userId': 2,\n",
       "  'id': 17,\n",
       "  'title': 'fugit voluptas sed molestias voluptatem provident',\n",
       "  'body': 'eos voluptas et aut odit natus earum\\naspernatur fuga molestiae ullam\\ndeserunt ratione qui eos\\nqui nihil ratione nemo velit ut aut id quo'},\n",
       " {'userId': 2,\n",
       "  'id': 18,\n",
       "  'title': 'voluptate et itaque vero tempora molestiae',\n",
       "  'body': 'eveniet quo quis\\nlaborum totam consequatur non dolor\\nut et est repudiandae\\nest voluptatem vel debitis et magnam'},\n",
       " {'userId': 2,\n",
       "  'id': 19,\n",
       "  'title': 'adipisci placeat illum aut reiciendis qui',\n",
       "  'body': 'illum quis cupiditate provident sit magnam\\nea sed aut omnis\\nveniam maiores ullam consequatur atque\\nadipisci quo iste expedita sit quos voluptas'},\n",
       " {'userId': 2,\n",
       "  'id': 20,\n",
       "  'title': 'doloribus ad provident suscipit at',\n",
       "  'body': 'qui consequuntur ducimus possimus quisquam amet similique\\nsuscipit porro ipsam amet\\neos veritatis officiis exercitationem vel fugit aut necessitatibus totam\\nomnis rerum consequatur expedita quidem cumque explicabo'},\n",
       " {'userId': 3,\n",
       "  'id': 21,\n",
       "  'title': 'asperiores ea ipsam voluptatibus modi minima quia sint',\n",
       "  'body': 'repellat aliquid praesentium dolorem quo\\nsed totam minus non itaque\\nnihil labore molestiae sunt dolor eveniet hic recusandae veniam\\ntempora et tenetur expedita sunt'},\n",
       " {'userId': 3,\n",
       "  'id': 22,\n",
       "  'title': 'dolor sint quo a velit explicabo quia nam',\n",
       "  'body': 'eos qui et ipsum ipsam suscipit aut\\nsed omnis non odio\\nexpedita earum mollitia molestiae aut atque rem suscipit\\nnam impedit esse'},\n",
       " {'userId': 3,\n",
       "  'id': 23,\n",
       "  'title': 'maxime id vitae nihil numquam',\n",
       "  'body': 'veritatis unde neque eligendi\\nquae quod architecto quo neque vitae\\nest illo sit tempora doloremque fugit quod\\net et vel beatae sequi ullam sed tenetur perspiciatis'},\n",
       " {'userId': 3,\n",
       "  'id': 24,\n",
       "  'title': 'autem hic labore sunt dolores incidunt',\n",
       "  'body': 'enim et ex nulla\\nomnis voluptas quia qui\\nvoluptatem consequatur numquam aliquam sunt\\ntotam recusandae id dignissimos aut sed asperiores deserunt'},\n",
       " {'userId': 3,\n",
       "  'id': 25,\n",
       "  'title': 'rem alias distinctio quo quis',\n",
       "  'body': 'ullam consequatur ut\\nomnis quis sit vel consequuntur\\nipsa eligendi ipsum molestiae et omnis error nostrum\\nmolestiae illo tempore quia et distinctio'},\n",
       " {'userId': 3,\n",
       "  'id': 26,\n",
       "  'title': 'est et quae odit qui non',\n",
       "  'body': 'similique esse doloribus nihil accusamus\\nomnis dolorem fuga consequuntur reprehenderit fugit recusandae temporibus\\nperspiciatis cum ut laudantium\\nomnis aut molestiae vel vero'},\n",
       " {'userId': 3,\n",
       "  'id': 27,\n",
       "  'title': 'quasi id et eos tenetur aut quo autem',\n",
       "  'body': 'eum sed dolores ipsam sint possimus debitis occaecati\\ndebitis qui qui et\\nut placeat enim earum aut odit facilis\\nconsequatur suscipit necessitatibus rerum sed inventore temporibus consequatur'},\n",
       " {'userId': 3,\n",
       "  'id': 28,\n",
       "  'title': 'delectus ullam et corporis nulla voluptas sequi',\n",
       "  'body': 'non et quaerat ex quae ad maiores\\nmaiores recusandae totam aut blanditiis mollitia quas illo\\nut voluptatibus voluptatem\\nsimilique nostrum eum'},\n",
       " {'userId': 3,\n",
       "  'id': 29,\n",
       "  'title': 'iusto eius quod necessitatibus culpa ea',\n",
       "  'body': 'odit magnam ut saepe sed non qui\\ntempora atque nihil\\naccusamus illum doloribus illo dolor\\neligendi repudiandae odit magni similique sed cum maiores'},\n",
       " {'userId': 3,\n",
       "  'id': 30,\n",
       "  'title': 'a quo magni similique perferendis',\n",
       "  'body': 'alias dolor cumque\\nimpedit blanditiis non eveniet odio maxime\\nblanditiis amet eius quis tempora quia autem rem\\na provident perspiciatis quia'},\n",
       " {'userId': 4,\n",
       "  'id': 31,\n",
       "  'title': 'ullam ut quidem id aut vel consequuntur',\n",
       "  'body': 'debitis eius sed quibusdam non quis consectetur vitae\\nimpedit ut qui consequatur sed aut in\\nquidem sit nostrum et maiores adipisci atque\\nquaerat voluptatem adipisci repudiandae'},\n",
       " {'userId': 4,\n",
       "  'id': 32,\n",
       "  'title': 'doloremque illum aliquid sunt',\n",
       "  'body': 'deserunt eos nobis asperiores et hic\\nest debitis repellat molestiae optio\\nnihil ratione ut eos beatae quibusdam distinctio maiores\\nearum voluptates et aut adipisci ea maiores voluptas maxime'},\n",
       " {'userId': 4,\n",
       "  'id': 33,\n",
       "  'title': 'qui explicabo molestiae dolorem',\n",
       "  'body': 'rerum ut et numquam laborum odit est sit\\nid qui sint in\\nquasi tenetur tempore aperiam et quaerat qui in\\nrerum officiis sequi cumque quod'},\n",
       " {'userId': 4,\n",
       "  'id': 34,\n",
       "  'title': 'magnam ut rerum iure',\n",
       "  'body': 'ea velit perferendis earum ut voluptatem voluptate itaque iusto\\ntotam pariatur in\\nnemo voluptatem voluptatem autem magni tempora minima in\\nest distinctio qui assumenda accusamus dignissimos officia nesciunt nobis'},\n",
       " {'userId': 4,\n",
       "  'id': 35,\n",
       "  'title': 'id nihil consequatur molestias animi provident',\n",
       "  'body': 'nisi error delectus possimus ut eligendi vitae\\nplaceat eos harum cupiditate facilis reprehenderit voluptatem beatae\\nmodi ducimus quo illum voluptas eligendi\\net nobis quia fugit'},\n",
       " {'userId': 4,\n",
       "  'id': 36,\n",
       "  'title': 'fuga nam accusamus voluptas reiciendis itaque',\n",
       "  'body': 'ad mollitia et omnis minus architecto odit\\nvoluptas doloremque maxime aut non ipsa qui alias veniam\\nblanditiis culpa aut quia nihil cumque facere et occaecati\\nqui aspernatur quia eaque ut aperiam inventore'},\n",
       " {'userId': 4,\n",
       "  'id': 37,\n",
       "  'title': 'provident vel ut sit ratione est',\n",
       "  'body': 'debitis et eaque non officia sed nesciunt pariatur vel\\nvoluptatem iste vero et ea\\nnumquam aut expedita ipsum nulla in\\nvoluptates omnis consequatur aut enim officiis in quam qui'},\n",
       " {'userId': 4,\n",
       "  'id': 38,\n",
       "  'title': 'explicabo et eos deleniti nostrum ab id repellendus',\n",
       "  'body': 'animi esse sit aut sit nesciunt assumenda eum voluptas\\nquia voluptatibus provident quia necessitatibus ea\\nrerum repudiandae quia voluptatem delectus fugit aut id quia\\nratione optio eos iusto veniam iure'},\n",
       " {'userId': 4,\n",
       "  'id': 39,\n",
       "  'title': 'eos dolorem iste accusantium est eaque quam',\n",
       "  'body': 'corporis rerum ducimus vel eum accusantium\\nmaxime aspernatur a porro possimus iste omnis\\nest in deleniti asperiores fuga aut\\nvoluptas sapiente vel dolore minus voluptatem incidunt ex'},\n",
       " {'userId': 4,\n",
       "  'id': 40,\n",
       "  'title': 'enim quo cumque',\n",
       "  'body': 'ut voluptatum aliquid illo tenetur nemo sequi quo facilis\\nipsum rem optio mollitia quas\\nvoluptatem eum voluptas qui\\nunde omnis voluptatem iure quasi maxime voluptas nam'},\n",
       " {'userId': 5,\n",
       "  'id': 41,\n",
       "  'title': 'non est facere',\n",
       "  'body': 'molestias id nostrum\\nexcepturi molestiae dolore omnis repellendus quaerat saepe\\nconsectetur iste quaerat tenetur asperiores accusamus ex ut\\nnam quidem est ducimus sunt debitis saepe'},\n",
       " {'userId': 5,\n",
       "  'id': 42,\n",
       "  'title': 'commodi ullam sint et excepturi error explicabo praesentium voluptas',\n",
       "  'body': 'odio fugit voluptatum ducimus earum autem est incidunt voluptatem\\nodit reiciendis aliquam sunt sequi nulla dolorem\\nnon facere repellendus voluptates quia\\nratione harum vitae ut'},\n",
       " {'userId': 5,\n",
       "  'id': 43,\n",
       "  'title': 'eligendi iste nostrum consequuntur adipisci praesentium sit beatae perferendis',\n",
       "  'body': 'similique fugit est\\nillum et dolorum harum et voluptate eaque quidem\\nexercitationem quos nam commodi possimus cum odio nihil nulla\\ndolorum exercitationem magnam ex et a et distinctio debitis'},\n",
       " {'userId': 5,\n",
       "  'id': 44,\n",
       "  'title': 'optio dolor molestias sit',\n",
       "  'body': 'temporibus est consectetur dolore\\net libero debitis vel velit laboriosam quia\\nipsum quibusdam qui itaque fuga rem aut\\nea et iure quam sed maxime ut distinctio quae'},\n",
       " {'userId': 5,\n",
       "  'id': 45,\n",
       "  'title': 'ut numquam possimus omnis eius suscipit laudantium iure',\n",
       "  'body': 'est natus reiciendis nihil possimus aut provident\\nex et dolor\\nrepellat pariatur est\\nnobis rerum repellendus dolorem autem'},\n",
       " {'userId': 5,\n",
       "  'id': 46,\n",
       "  'title': 'aut quo modi neque nostrum ducimus',\n",
       "  'body': 'voluptatem quisquam iste\\nvoluptatibus natus officiis facilis dolorem\\nquis quas ipsam\\nvel et voluptatum in aliquid'},\n",
       " {'userId': 5,\n",
       "  'id': 47,\n",
       "  'title': 'quibusdam cumque rem aut deserunt',\n",
       "  'body': 'voluptatem assumenda ut qui ut cupiditate aut impedit veniam\\noccaecati nemo illum voluptatem laudantium\\nmolestiae beatae rerum ea iure soluta nostrum\\neligendi et voluptate'},\n",
       " {'userId': 5,\n",
       "  'id': 48,\n",
       "  'title': 'ut voluptatem illum ea doloribus itaque eos',\n",
       "  'body': 'voluptates quo voluptatem facilis iure occaecati\\nvel assumenda rerum officia et\\nillum perspiciatis ab deleniti\\nlaudantium repellat ad ut et autem reprehenderit'},\n",
       " {'userId': 5,\n",
       "  'id': 49,\n",
       "  'title': 'laborum non sunt aut ut assumenda perspiciatis voluptas',\n",
       "  'body': 'inventore ab sint\\nnatus fugit id nulla sequi architecto nihil quaerat\\neos tenetur in in eum veritatis non\\nquibusdam officiis aspernatur cumque aut commodi aut'},\n",
       " {'userId': 5,\n",
       "  'id': 50,\n",
       "  'title': 'repellendus qui recusandae incidunt voluptates tenetur qui omnis exercitationem',\n",
       "  'body': 'error suscipit maxime adipisci consequuntur recusandae\\nvoluptas eligendi et est et voluptates\\nquia distinctio ab amet quaerat molestiae et vitae\\nadipisci impedit sequi nesciunt quis consectetur'},\n",
       " {'userId': 6,\n",
       "  'id': 51,\n",
       "  'title': 'soluta aliquam aperiam consequatur illo quis voluptas',\n",
       "  'body': 'sunt dolores aut doloribus\\ndolore doloribus voluptates tempora et\\ndoloremque et quo\\ncum asperiores sit consectetur dolorem'},\n",
       " {'userId': 6,\n",
       "  'id': 52,\n",
       "  'title': 'qui enim et consequuntur quia animi quis voluptate quibusdam',\n",
       "  'body': 'iusto est quibusdam fuga quas quaerat molestias\\na enim ut sit accusamus enim\\ntemporibus iusto accusantium provident architecto\\nsoluta esse reprehenderit qui laborum'},\n",
       " {'userId': 6,\n",
       "  'id': 53,\n",
       "  'title': 'ut quo aut ducimus alias',\n",
       "  'body': 'minima harum praesentium eum rerum illo dolore\\nquasi exercitationem rerum nam\\nporro quis neque quo\\nconsequatur minus dolor quidem veritatis sunt non explicabo similique'},\n",
       " {'userId': 6,\n",
       "  'id': 54,\n",
       "  'title': 'sit asperiores ipsam eveniet odio non quia',\n",
       "  'body': 'totam corporis dignissimos\\nvitae dolorem ut occaecati accusamus\\nex velit deserunt\\net exercitationem vero incidunt corrupti mollitia'},\n",
       " {'userId': 6,\n",
       "  'id': 55,\n",
       "  'title': 'sit vel voluptatem et non libero',\n",
       "  'body': 'debitis excepturi ea perferendis harum libero optio\\neos accusamus cum fuga ut sapiente repudiandae\\net ut incidunt omnis molestiae\\nnihil ut eum odit'},\n",
       " {'userId': 6,\n",
       "  'id': 56,\n",
       "  'title': 'qui et at rerum necessitatibus',\n",
       "  'body': 'aut est omnis dolores\\nneque rerum quod ea rerum velit pariatur beatae excepturi\\net provident voluptas corrupti\\ncorporis harum reprehenderit dolores eligendi'},\n",
       " {'userId': 6,\n",
       "  'id': 57,\n",
       "  'title': 'sed ab est est',\n",
       "  'body': 'at pariatur consequuntur earum quidem\\nquo est laudantium soluta voluptatem\\nqui ullam et est\\net cum voluptas voluptatum repellat est'},\n",
       " {'userId': 6,\n",
       "  'id': 58,\n",
       "  'title': 'voluptatum itaque dolores nisi et quasi',\n",
       "  'body': 'veniam voluptatum quae adipisci id\\net id quia eos ad et dolorem\\naliquam quo nisi sunt eos impedit error\\nad similique veniam'},\n",
       " {'userId': 6,\n",
       "  'id': 59,\n",
       "  'title': 'qui commodi dolor at maiores et quis id accusantium',\n",
       "  'body': 'perspiciatis et quam ea autem temporibus non voluptatibus qui\\nbeatae a earum officia nesciunt dolores suscipit voluptas et\\nanimi doloribus cum rerum quas et magni\\net hic ut ut commodi expedita sunt'},\n",
       " {'userId': 6,\n",
       "  'id': 60,\n",
       "  'title': 'consequatur placeat omnis quisquam quia reprehenderit fugit veritatis facere',\n",
       "  'body': 'asperiores sunt ab assumenda cumque modi velit\\nqui esse omnis\\nvoluptate et fuga perferendis voluptas\\nillo ratione amet aut et omnis'},\n",
       " {'userId': 7,\n",
       "  'id': 61,\n",
       "  'title': 'voluptatem doloribus consectetur est ut ducimus',\n",
       "  'body': 'ab nemo optio odio\\ndelectus tenetur corporis similique nobis repellendus rerum omnis facilis\\nvero blanditiis debitis in nesciunt doloribus dicta dolores\\nmagnam minus velit'},\n",
       " {'userId': 7,\n",
       "  'id': 62,\n",
       "  'title': 'beatae enim quia vel',\n",
       "  'body': 'enim aspernatur illo distinctio quae praesentium\\nbeatae alias amet delectus qui voluptate distinctio\\nodit sint accusantium autem omnis\\nquo molestiae omnis ea eveniet optio'},\n",
       " {'userId': 7,\n",
       "  'id': 63,\n",
       "  'title': 'voluptas blanditiis repellendus animi ducimus error sapiente et suscipit',\n",
       "  'body': 'enim adipisci aspernatur nemo\\nnumquam omnis facere dolorem dolor ex quis temporibus incidunt\\nab delectus culpa quo reprehenderit blanditiis asperiores\\naccusantium ut quam in voluptatibus voluptas ipsam dicta'},\n",
       " {'userId': 7,\n",
       "  'id': 64,\n",
       "  'title': 'et fugit quas eum in in aperiam quod',\n",
       "  'body': 'id velit blanditiis\\neum ea voluptatem\\nmolestiae sint occaecati est eos perspiciatis\\nincidunt a error provident eaque aut aut qui'},\n",
       " {'userId': 7,\n",
       "  'id': 65,\n",
       "  'title': 'consequatur id enim sunt et et',\n",
       "  'body': 'voluptatibus ex esse\\nsint explicabo est aliquid cumque adipisci fuga repellat labore\\nmolestiae corrupti ex saepe at asperiores et perferendis\\nnatus id esse incidunt pariatur'},\n",
       " {'userId': 7,\n",
       "  'id': 66,\n",
       "  'title': 'repudiandae ea animi iusto',\n",
       "  'body': 'officia veritatis tenetur vero qui itaque\\nsint non ratione\\nsed et ut asperiores iusto eos molestiae nostrum\\nveritatis quibusdam et nemo iusto saepe'},\n",
       " {'userId': 7,\n",
       "  'id': 67,\n",
       "  'title': 'aliquid eos sed fuga est maxime repellendus',\n",
       "  'body': 'reprehenderit id nostrum\\nvoluptas doloremque pariatur sint et accusantium quia quod aspernatur\\net fugiat amet\\nnon sapiente et consequatur necessitatibus molestiae'},\n",
       " {'userId': 7,\n",
       "  'id': 68,\n",
       "  'title': 'odio quis facere architecto reiciendis optio',\n",
       "  'body': 'magnam molestiae perferendis quisquam\\nqui cum reiciendis\\nquaerat animi amet hic inventore\\nea quia deleniti quidem saepe porro velit'},\n",
       " {'userId': 7,\n",
       "  'id': 69,\n",
       "  'title': 'fugiat quod pariatur odit minima',\n",
       "  'body': 'officiis error culpa consequatur modi asperiores et\\ndolorum assumenda voluptas et vel qui aut vel rerum\\nvoluptatum quisquam perspiciatis quia rerum consequatur totam quas\\nsequi commodi repudiandae asperiores et saepe a'},\n",
       " {'userId': 7,\n",
       "  'id': 70,\n",
       "  'title': 'voluptatem laborum magni',\n",
       "  'body': 'sunt repellendus quae\\nest asperiores aut deleniti esse accusamus repellendus quia aut\\nquia dolorem unde\\neum tempora esse dolore'},\n",
       " {'userId': 8,\n",
       "  'id': 71,\n",
       "  'title': 'et iusto veniam et illum aut fuga',\n",
       "  'body': 'occaecati a doloribus\\niste saepe consectetur placeat eum voluptate dolorem et\\nqui quo quia voluptas\\nrerum ut id enim velit est perferendis'},\n",
       " {'userId': 8,\n",
       "  'id': 72,\n",
       "  'title': 'sint hic doloribus consequatur eos non id',\n",
       "  'body': 'quam occaecati qui deleniti consectetur\\nconsequatur aut facere quas exercitationem aliquam hic voluptas\\nneque id sunt ut aut accusamus\\nsunt consectetur expedita inventore velit'},\n",
       " {'userId': 8,\n",
       "  'id': 73,\n",
       "  'title': 'consequuntur deleniti eos quia temporibus ab aliquid at',\n",
       "  'body': 'voluptatem cumque tenetur consequatur expedita ipsum nemo quia explicabo\\naut eum minima consequatur\\ntempore cumque quae est et\\net in consequuntur voluptatem voluptates aut'},\n",
       " {'userId': 8,\n",
       "  'id': 74,\n",
       "  'title': 'enim unde ratione doloribus quas enim ut sit sapiente',\n",
       "  'body': 'odit qui et et necessitatibus sint veniam\\nmollitia amet doloremque molestiae commodi similique magnam et quam\\nblanditiis est itaque\\nquo et tenetur ratione occaecati molestiae tempora'},\n",
       " {'userId': 8,\n",
       "  'id': 75,\n",
       "  'title': 'dignissimos eum dolor ut enim et delectus in',\n",
       "  'body': 'commodi non non omnis et voluptas sit\\nautem aut nobis magnam et sapiente voluptatem\\net laborum repellat qui delectus facilis temporibus\\nrerum amet et nemo voluptate expedita adipisci error dolorem'},\n",
       " {'userId': 8,\n",
       "  'id': 76,\n",
       "  'title': 'doloremque officiis ad et non perferendis',\n",
       "  'body': 'ut animi facere\\ntotam iusto tempore\\nmolestiae eum aut et dolorem aperiam\\nquaerat recusandae totam odio'},\n",
       " {'userId': 8,\n",
       "  'id': 77,\n",
       "  'title': 'necessitatibus quasi exercitationem odio',\n",
       "  'body': 'modi ut in nulla repudiandae dolorum nostrum eos\\naut consequatur omnis\\nut incidunt est omnis iste et quam\\nvoluptates sapiente aliquam asperiores nobis amet corrupti repudiandae provident'},\n",
       " {'userId': 8,\n",
       "  'id': 78,\n",
       "  'title': 'quam voluptatibus rerum veritatis',\n",
       "  'body': 'nobis facilis odit tempore cupiditate quia\\nassumenda doloribus rerum qui ea\\nillum et qui totam\\naut veniam repellendus'},\n",
       " {'userId': 8,\n",
       "  'id': 79,\n",
       "  'title': 'pariatur consequatur quia magnam autem omnis non amet',\n",
       "  'body': 'libero accusantium et et facere incidunt sit dolorem\\nnon excepturi qui quia sed laudantium\\nquisquam molestiae ducimus est\\nofficiis esse molestiae iste et quos'},\n",
       " {'userId': 8,\n",
       "  'id': 80,\n",
       "  'title': 'labore in ex et explicabo corporis aut quas',\n",
       "  'body': 'ex quod dolorem ea eum iure qui provident amet\\nquia qui facere excepturi et repudiandae\\nasperiores molestias provident\\nminus incidunt vero fugit rerum sint sunt excepturi provident'},\n",
       " {'userId': 9,\n",
       "  'id': 81,\n",
       "  'title': 'tempora rem veritatis voluptas quo dolores vero',\n",
       "  'body': 'facere qui nesciunt est voluptatum voluptatem nisi\\nsequi eligendi necessitatibus ea at rerum itaque\\nharum non ratione velit laboriosam quis consequuntur\\nex officiis minima doloremque voluptas ut aut'},\n",
       " {'userId': 9,\n",
       "  'id': 82,\n",
       "  'title': 'laudantium voluptate suscipit sunt enim enim',\n",
       "  'body': 'ut libero sit aut totam inventore sunt\\nporro sint qui sunt molestiae\\nconsequatur cupiditate qui iste ducimus adipisci\\ndolor enim assumenda soluta laboriosam amet iste delectus hic'},\n",
       " {'userId': 9,\n",
       "  'id': 83,\n",
       "  'title': 'odit et voluptates doloribus alias odio et',\n",
       "  'body': 'est molestiae facilis quis tempora numquam nihil qui\\nvoluptate sapiente consequatur est qui\\nnecessitatibus autem aut ipsa aperiam modi dolore numquam\\nreprehenderit eius rem quibusdam'},\n",
       " {'userId': 9,\n",
       "  'id': 84,\n",
       "  'title': 'optio ipsam molestias necessitatibus occaecati facilis veritatis dolores aut',\n",
       "  'body': 'sint molestiae magni a et quos\\neaque et quasi\\nut rerum debitis similique veniam\\nrecusandae dignissimos dolor incidunt consequatur odio'},\n",
       " {'userId': 9,\n",
       "  'id': 85,\n",
       "  'title': 'dolore veritatis porro provident adipisci blanditiis et sunt',\n",
       "  'body': 'similique sed nisi voluptas iusto omnis\\nmollitia et quo\\nassumenda suscipit officia magnam sint sed tempora\\nenim provident pariatur praesentium atque animi amet ratione'},\n",
       " {'userId': 9,\n",
       "  'id': 86,\n",
       "  'title': 'placeat quia et porro iste',\n",
       "  'body': 'quasi excepturi consequatur iste autem temporibus sed molestiae beatae\\net quaerat et esse ut\\nvoluptatem occaecati et vel explicabo autem\\nasperiores pariatur deserunt optio'},\n",
       " {'userId': 9,\n",
       "  'id': 87,\n",
       "  'title': 'nostrum quis quasi placeat',\n",
       "  'body': 'eos et molestiae\\nnesciunt ut a\\ndolores perspiciatis repellendus repellat aliquid\\nmagnam sint rem ipsum est'},\n",
       " {'userId': 9,\n",
       "  'id': 88,\n",
       "  'title': 'sapiente omnis fugit eos',\n",
       "  'body': 'consequatur omnis est praesentium\\nducimus non iste\\nneque hic deserunt\\nvoluptatibus veniam cum et rerum sed'},\n",
       " {'userId': 9,\n",
       "  'id': 89,\n",
       "  'title': 'sint soluta et vel magnam aut ut sed qui',\n",
       "  'body': 'repellat aut aperiam totam temporibus autem et\\narchitecto magnam ut\\nconsequatur qui cupiditate rerum quia soluta dignissimos nihil iure\\ntempore quas est'},\n",
       " {'userId': 9,\n",
       "  'id': 90,\n",
       "  'title': 'ad iusto omnis odit dolor voluptatibus',\n",
       "  'body': 'minus omnis soluta quia\\nqui sed adipisci voluptates illum ipsam voluptatem\\neligendi officia ut in\\neos soluta similique molestias praesentium blanditiis'},\n",
       " {'userId': 10,\n",
       "  'id': 91,\n",
       "  'title': 'aut amet sed',\n",
       "  'body': 'libero voluptate eveniet aperiam sed\\nsunt placeat suscipit molestias\\nsimilique fugit nam natus\\nexpedita consequatur consequatur dolores quia eos et placeat'},\n",
       " {'userId': 10,\n",
       "  'id': 92,\n",
       "  'title': 'ratione ex tenetur perferendis',\n",
       "  'body': 'aut et excepturi dicta laudantium sint rerum nihil\\nlaudantium et at\\na neque minima officia et similique libero et\\ncommodi voluptate qui'},\n",
       " {'userId': 10,\n",
       "  'id': 93,\n",
       "  'title': 'beatae soluta recusandae',\n",
       "  'body': 'dolorem quibusdam ducimus consequuntur dicta aut quo laboriosam\\nvoluptatem quis enim recusandae ut sed sunt\\nnostrum est odit totam\\nsit error sed sunt eveniet provident qui nulla'},\n",
       " {'userId': 10,\n",
       "  'id': 94,\n",
       "  'title': 'qui qui voluptates illo iste minima',\n",
       "  'body': 'aspernatur expedita soluta quo ab ut similique\\nexpedita dolores amet\\nsed temporibus distinctio magnam saepe deleniti\\nomnis facilis nam ipsum natus sint similique omnis'},\n",
       " {'userId': 10,\n",
       "  'id': 95,\n",
       "  'title': 'id minus libero illum nam ad officiis',\n",
       "  'body': 'earum voluptatem facere provident blanditiis velit laboriosam\\npariatur accusamus odio saepe\\ncumque dolor qui a dicta ab doloribus consequatur omnis\\ncorporis cupiditate eaque assumenda ad nesciunt'},\n",
       " {'userId': 10,\n",
       "  'id': 96,\n",
       "  'title': 'quaerat velit veniam amet cupiditate aut numquam ut sequi',\n",
       "  'body': 'in non odio excepturi sint eum\\nlabore voluptates vitae quia qui et\\ninventore itaque rerum\\nveniam non exercitationem delectus aut'},\n",
       " {'userId': 10,\n",
       "  'id': 97,\n",
       "  'title': 'quas fugiat ut perspiciatis vero provident',\n",
       "  'body': 'eum non blanditiis soluta porro quibusdam voluptas\\nvel voluptatem qui placeat dolores qui velit aut\\nvel inventore aut cumque culpa explicabo aliquid at\\nperspiciatis est et voluptatem dignissimos dolor itaque sit nam'},\n",
       " {'userId': 10,\n",
       "  'id': 98,\n",
       "  'title': 'laboriosam dolor voluptates',\n",
       "  'body': 'doloremque ex facilis sit sint culpa\\nsoluta assumenda eligendi non ut eius\\nsequi ducimus vel quasi\\nveritatis est dolores'},\n",
       " {'userId': 10,\n",
       "  'id': 99,\n",
       "  'title': 'temporibus sit alias delectus eligendi possimus magni',\n",
       "  'body': 'quo deleniti praesentium dicta non quod\\naut est molestias\\nmolestias et officia quis nihil\\nitaque dolorem quia'},\n",
       " {'userId': 10,\n",
       "  'id': 100,\n",
       "  'title': 'at nam consequatur ea labore ea harum',\n",
       "  'body': 'cupiditate quo est a modi nesciunt soluta\\nipsa voluptas error itaque dicta in\\nautem qui minus magnam et distinctio eum\\naccusamus ratione error aut'}]"
      ]
     },
     "execution_count": 17,
     "metadata": {},
     "output_type": "execute_result"
    }
   ],
   "source": [
    "r.json()"
   ]
  },
  {
   "cell_type": "code",
   "execution_count": 18,
   "metadata": {},
   "outputs": [
    {
     "data": {
      "text/plain": [
       "{'Date': 'Wed, 20 Nov 2024 07:31:20 GMT', 'Content-Type': 'application/json; charset=utf-8', 'Transfer-Encoding': 'chunked', 'Connection': 'keep-alive', 'Report-To': '{\"group\":\"heroku-nel\",\"max_age\":3600,\"endpoints\":[{\"url\":\"https://nel.heroku.com/reports?ts=1731643068&sid=e11707d5-02a7-43ef-b45e-2cf4d2036f7d&s=QrhIBlYXJ44YcLSDhVfJ%2BGSYJtNqMtAKacBDabo3qSE%3D\"}]}', 'Reporting-Endpoints': 'heroku-nel=https://nel.heroku.com/reports?ts=1731643068&sid=e11707d5-02a7-43ef-b45e-2cf4d2036f7d&s=QrhIBlYXJ44YcLSDhVfJ%2BGSYJtNqMtAKacBDabo3qSE%3D', 'Nel': '{\"report_to\":\"heroku-nel\",\"max_age\":3600,\"success_fraction\":0.005,\"failure_fraction\":0.05,\"response_headers\":[\"Via\"]}', 'X-Powered-By': 'Express', 'X-Ratelimit-Limit': '1000', 'X-Ratelimit-Remaining': '999', 'X-Ratelimit-Reset': '1731643095', 'Vary': 'Origin, Accept-Encoding', 'Access-Control-Allow-Credentials': 'true', 'Cache-Control': 'max-age=43200', 'Pragma': 'no-cache', 'Expires': '-1', 'X-Content-Type-Options': 'nosniff', 'Etag': 'W/\"6b80-Ybsq/K6GwwqrYkAsFxqDXGC7DoM\"', 'Content-Encoding': 'gzip', 'Via': '1.1 vegur', 'CF-Cache-Status': 'HIT', 'Age': '12288', 'Server': 'cloudflare', 'CF-RAY': '8e56bd6768762f17-LAX', 'alt-svc': 'h3=\":443\"; ma=86400', 'server-timing': 'cfL4;desc=\"?proto=TCP&rtt=138212&sent=4&recv=6&lost=0&retrans=0&sent_bytes=2842&recv_bytes=783&delivery_rate=21152&cwnd=249&unsent_bytes=0&cid=d924dbb687a72b3a&ts=152&x=0\"'}"
      ]
     },
     "execution_count": 18,
     "metadata": {},
     "output_type": "execute_result"
    }
   ],
   "source": [
    "r.headers"
   ]
  },
  {
   "cell_type": "code",
   "execution_count": 19,
   "metadata": {},
   "outputs": [
    {
     "data": {
      "text/plain": [
       "{'User-Agent': 'python-requests/2.32.3', 'Accept-Encoding': 'gzip, deflate', 'Accept': '*/*', 'Connection': 'keep-alive'}"
      ]
     },
     "execution_count": 19,
     "metadata": {},
     "output_type": "execute_result"
    }
   ],
   "source": [
    "r.request.headers"
   ]
  },
  {
   "cell_type": "code",
   "execution_count": 21,
   "metadata": {},
   "outputs": [
    {
     "data": {
      "text/plain": [
       "'utf-8'"
      ]
     },
     "execution_count": 21,
     "metadata": {},
     "output_type": "execute_result"
    }
   ],
   "source": [
    "r.encoding"
   ]
  }
 ],
 "metadata": {
  "kernelspec": {
   "display_name": "django",
   "language": "python",
   "name": "python3"
  },
  "language_info": {
   "codemirror_mode": {
    "name": "ipython",
    "version": 3
   },
   "file_extension": ".py",
   "mimetype": "text/x-python",
   "name": "python",
   "nbconvert_exporter": "python",
   "pygments_lexer": "ipython3",
   "version": "3.11.10"
  }
 },
 "nbformat": 4,
 "nbformat_minor": 2
}
