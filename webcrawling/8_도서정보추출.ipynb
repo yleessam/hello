{
 "cells": [
  {
   "cell_type": "code",
   "execution_count": null,
   "metadata": {},
   "outputs": [],
   "source": [
    "import requests\n",
    "from bs4 import BeautifulSoup\n",
    "\n",
    "url = \"https://www.yes24.com/Product/Category/BestSeller?categoryNumber=001\"\n",
    "movie_ranking = requests.get(url)\n",
    "soup = BeautifulSoup(movie_ranking.text, \"html.parser\")\n",
    "soup"
   ]
  },
  {
   "cell_type": "code",
   "execution_count": null,
   "metadata": {},
   "outputs": [
    {
     "data": {
      "text/plain": [
       "24"
      ]
     },
     "execution_count": 8,
     "metadata": {},
     "output_type": "execute_result"
    }
   ],
   "source": [
    "#yesBestList > li:nth-child(1) > div > div.item_info > div.info_row.info_name\n",
    "book_list_element = soup.select(\"#yesBestList div.item_info\") # #은 id selector, .은 class selector\n",
    "len(book_list_element)\n"
   ]
  },
  {
   "cell_type": "code",
   "execution_count": 14,
   "metadata": {},
   "outputs": [
    {
     "data": {
      "text/plain": [
       "[[1, '소년이 온다', '한강', '13,500'],\n",
       " [2, '채식주의자', '한강', '13,500'],\n",
       " [3, '작별하지 않는다', '한강', '15,120'],\n",
       " [4, '트럼프 2.0 시대', '박종훈', '18,000'],\n",
       " [5, '서랍에 저녁을 넣어 두었다', '한강', '10,800'],\n",
       " [6, '하루 한 장 나의 어휘력을 위한 필사 노트', '유선경', '21,420'],\n",
       " [7, '흰', '한강', '13,050'],\n",
       " [8, '트렌드 코리아 2025', '김난도', '18,000'],\n",
       " [9, '넥서스', '유발 하라리', '25,020'],\n",
       " [10, '희랍어 시간', '한강', '11,700'],\n",
       " [11, '인생의 의미', '토마스 힐란드 에릭센', '16,920'],\n",
       " [12, '부모의 어휘력', '김종원', '17,100'],\n",
       " [13, '어른의 행복은 조용하다', '태수', '16,020'],\n",
       " [14, '천 번을 흔들리며 아이는 어른이 됩니다', '김붕년', '16,020'],\n",
       " [15, '초등 영어 식스', '권태형', '20,700'],\n",
       " [16, '성적을 부탁해 티처스', '정승제', '19,800'],\n",
       " [17, 'ETS 토익 정기시험 기출문제집 1000 Vol. 4 RC', 'ETS', '17,820'],\n",
       " [18, '모순', '양귀자', '11,700'],\n",
       " [19, '나의 인생만사 답사기', '유홍준', '19,800'],\n",
       " [20, '지박소년 하나코 군 22 트리플 특장판', '아이다이로', '5,400'],\n",
       " [21, '가난한 찰리의 연감', '찰리 멍거', '29,700'],\n",
       " [22, '퓨처 셀프 30만 부 기념 스페셜 에디션', '벤저민 하디', '19,800'],\n",
       " [23, '너에게 들려주는 단단한 말', '김종원', '16,200'],\n",
       " [24, 'ETS 토익 정기시험 기출문제집 1000 Vol. 4 LC', 'ETS', '17,820']]"
      ]
     },
     "execution_count": 14,
     "metadata": {},
     "output_type": "execute_result"
    }
   ],
   "source": [
    "book_list = []\n",
    "\n",
    "for i, item in enumerate(book_list_element):\n",
    "    book_title = item.select_one('div.info_name > a').text\n",
    "    book_author = item.select_one('span.info_auth > a').text\n",
    "    #print(i+1, book_author)\n",
    "    ##yesBestList > li:nth-child(1) > div > div.item_info > div.info_row.info_price > strong > em\n",
    "    book_price = item.select_one('.info_price .yes_b').text\n",
    "    #print(i+1, book_title, book_author, book_price)\n",
    "    book_list.append([i+1, book_title, book_author, book_price])\n",
    "\n",
    "book_list"
   ]
  },
  {
   "cell_type": "code",
   "execution_count": null,
   "metadata": {},
   "outputs": [],
   "source": []
  }
 ],
 "metadata": {
  "kernelspec": {
   "display_name": "django",
   "language": "python",
   "name": "python3"
  },
  "language_info": {
   "codemirror_mode": {
    "name": "ipython",
    "version": 3
   },
   "file_extension": ".py",
   "mimetype": "text/x-python",
   "name": "python",
   "nbconvert_exporter": "python",
   "pygments_lexer": "ipython3",
   "version": "3.11.10"
  }
 },
 "nbformat": 4,
 "nbformat_minor": 2
}
